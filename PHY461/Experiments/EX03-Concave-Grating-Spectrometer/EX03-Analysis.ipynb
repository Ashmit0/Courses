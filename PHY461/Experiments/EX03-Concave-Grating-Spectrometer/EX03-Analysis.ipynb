{
 "cells": [
  {
   "cell_type": "markdown",
   "metadata": {},
   "source": [
    "# Experiment 3: Concave Grating Spectrometer \n",
    "\n",
    "## Ashmit Bathla, 210216. \n",
    "## 10th Febuary 2025 "
   ]
  },
  {
   "cell_type": "code",
   "execution_count": 1,
   "metadata": {},
   "outputs": [],
   "source": [
    "# import necessary libraries \n",
    "import numpy as np \n",
    "import pandas as pd \n",
    "import matplotlib.pyplot as plt \n",
    "from scipy.stats import linregress"
   ]
  },
  {
   "cell_type": "code",
   "execution_count": 2,
   "metadata": {},
   "outputs": [],
   "source": [
    "# set default params for matplotlib : \n",
    "plt.rcParams['font.size'] = 14\n",
    "plt.rcParams['lines.linewidth'] = 2\n",
    "plt.rcParams[\"figure.figsize\"] = (8,5)"
   ]
  },
  {
   "cell_type": "code",
   "execution_count": 3,
   "metadata": {},
   "outputs": [],
   "source": [
    "# read all the data form the excel file : \n",
    "data_dict = {f'Linear-Order-{i+1}' : pd.read_excel('data.xlsx' , sheet_name=i) for i in range(2)}\n",
    "data_dict.update( {f'Angular-Order-{i-1}' : pd.read_excel('data.xlsx' , sheet_name=i) for i in range(2,4)} )\n",
    "data_dict['Sodium'] = pd.read_excel('data.xlsx' , sheet_name=-1)"
   ]
  },
  {
   "cell_type": "code",
   "execution_count": 4,
   "metadata": {},
   "outputs": [],
   "source": [
    "# list to store interpolated results : \n",
    "sodium_wavelenght = np.array([])"
   ]
  },
  {
   "cell_type": "code",
   "execution_count": 5,
   "metadata": {},
   "outputs": [],
   "source": [
    "# define function to plot the clabration curves and get the iterpolated values\n",
    "# the given data set \n",
    "\n",
    "def calibrate_interpolate(x,y,p,order:int): \n",
    "    '''\n",
    "        param x: independet variable of the data. \n",
    "        param y: give data points of the function.\n",
    "        param p: list of points to intepolate on.  \n",
    "        returns : interpolated values of y(p). \n",
    "    '''\n",
    "    \n",
    "    if( type(x) == list ): \n",
    "        x = np.array( x )\n",
    "    if( type(y) == list ): \n",
    "        y = np.array( y )\n",
    "    if( type(p) == list ): \n",
    "        p = np.array(p)\n",
    "    \n",
    "    # get the linear interpolated results : \n",
    "    q = np.interp( p , x , y )\n",
    "    \n",
    "    # plot the curves : \n",
    "    plt.plot( x , y , linewidth = 3 )\n",
    "    plt.scatter( x , y , linewidths=2 , label = 'Recorded Data Point')\n",
    "    plt.scatter( p , q  , color = 'r' , marker = '|' , s = 160 , label = 'Interpolated Points')\n",
    "    plt.xlabel(r'Linear Distance from the Slit $X$ ($cm$)')\n",
    "    plt.ylabel(r'Wavelength $\\lambda$ ($nm$)')\n",
    "    plt.grid()\n",
    "    plt.title(fr'$X$ vs $\\lambda$ Calibration Curve of Hg for Order {order}')\n",
    "    plt.legend()\n",
    "    plt.show()\n",
    "    \n",
    "    # return the slope of the regression line \n",
    "    return q "
   ]
  },
  {
   "cell_type": "code",
   "execution_count": 6,
   "metadata": {},
   "outputs": [
    {
     "name": "stdout",
     "output_type": "stream",
     "text": [
      "--------Reading for the Sodium Lamp--------\n"
     ]
    },
    {
     "data": {
      "text/html": [
       "<div>\n",
       "<style scoped>\n",
       "    .dataframe tbody tr th:only-of-type {\n",
       "        vertical-align: middle;\n",
       "    }\n",
       "\n",
       "    .dataframe tbody tr th {\n",
       "        vertical-align: top;\n",
       "    }\n",
       "\n",
       "    .dataframe thead th {\n",
       "        text-align: right;\n",
       "    }\n",
       "</style>\n",
       "<table border=\"1\" class=\"dataframe\">\n",
       "  <thead>\n",
       "    <tr style=\"text-align: right;\">\n",
       "      <th></th>\n",
       "      <th>Linear Distance (cm)</th>\n",
       "      <th>Color</th>\n",
       "      <th>Order</th>\n",
       "    </tr>\n",
       "  </thead>\n",
       "  <tbody>\n",
       "    <tr>\n",
       "      <th>0</th>\n",
       "      <td>13.94</td>\n",
       "      <td>Yellow(1)</td>\n",
       "      <td>1</td>\n",
       "    </tr>\n",
       "    <tr>\n",
       "      <th>1</th>\n",
       "      <td>13.98</td>\n",
       "      <td>Yellow(2)</td>\n",
       "      <td>1</td>\n",
       "    </tr>\n",
       "    <tr>\n",
       "      <th>2</th>\n",
       "      <td>29.23</td>\n",
       "      <td>Yellow(1)</td>\n",
       "      <td>2</td>\n",
       "    </tr>\n",
       "    <tr>\n",
       "      <th>3</th>\n",
       "      <td>29.25</td>\n",
       "      <td>Yellow(2)</td>\n",
       "      <td>2</td>\n",
       "    </tr>\n",
       "  </tbody>\n",
       "</table>\n",
       "</div>"
      ],
      "text/plain": [
       "   Linear Distance (cm)        Color  Order\n",
       "0                  13.94  Yellow(1)       1\n",
       "1                  13.98  Yellow(2)       1\n",
       "2                  29.23  Yellow(1)       2\n",
       "3                  29.25  Yellow(2)       2"
      ]
     },
     "execution_count": 6,
     "metadata": {},
     "output_type": "execute_result"
    }
   ],
   "source": [
    "print('--------Reading for the Sodium Lamp--------')\n",
    "sodium_data = data_dict['Sodium']\n",
    "sodium_data"
   ]
  },
  {
   "cell_type": "code",
   "execution_count": 7,
   "metadata": {},
   "outputs": [
    {
     "name": "stdout",
     "output_type": "stream",
     "text": [
      "--------Linear Readings for Order 1 Bands of Hg--------\n"
     ]
    },
    {
     "data": {
      "text/html": [
       "<div>\n",
       "<style scoped>\n",
       "    .dataframe tbody tr th:only-of-type {\n",
       "        vertical-align: middle;\n",
       "    }\n",
       "\n",
       "    .dataframe tbody tr th {\n",
       "        vertical-align: top;\n",
       "    }\n",
       "\n",
       "    .dataframe thead th {\n",
       "        text-align: right;\n",
       "    }\n",
       "</style>\n",
       "<table border=\"1\" class=\"dataframe\">\n",
       "  <thead>\n",
       "    <tr style=\"text-align: right;\">\n",
       "      <th></th>\n",
       "      <th>Linear Distance (cm)</th>\n",
       "      <th>Color</th>\n",
       "      <th>Wavelength (nm)</th>\n",
       "    </tr>\n",
       "  </thead>\n",
       "  <tbody>\n",
       "    <tr>\n",
       "      <th>0</th>\n",
       "      <td>10.00</td>\n",
       "      <td>Violet[Deep]</td>\n",
       "      <td>404.7</td>\n",
       "    </tr>\n",
       "    <tr>\n",
       "      <th>1</th>\n",
       "      <td>11.54</td>\n",
       "      <td>Blue/Green</td>\n",
       "      <td>491.6</td>\n",
       "    </tr>\n",
       "    <tr>\n",
       "      <th>2</th>\n",
       "      <td>12.91</td>\n",
       "      <td>Green</td>\n",
       "      <td>546.1</td>\n",
       "    </tr>\n",
       "    <tr>\n",
       "      <th>3</th>\n",
       "      <td>13.72</td>\n",
       "      <td>Yellow-Orange(1)</td>\n",
       "      <td>577.0</td>\n",
       "    </tr>\n",
       "    <tr>\n",
       "      <th>4</th>\n",
       "      <td>13.78</td>\n",
       "      <td>Yellow-Orange(2)</td>\n",
       "      <td>579.1</td>\n",
       "    </tr>\n",
       "    <tr>\n",
       "      <th>5</th>\n",
       "      <td>14.69</td>\n",
       "      <td>Red(1)</td>\n",
       "      <td>623.4</td>\n",
       "    </tr>\n",
       "    <tr>\n",
       "      <th>6</th>\n",
       "      <td>14.76</td>\n",
       "      <td>Red(2)</td>\n",
       "      <td>690.8</td>\n",
       "    </tr>\n",
       "  </tbody>\n",
       "</table>\n",
       "</div>"
      ],
      "text/plain": [
       "   Linear Distance (cm)              Color  Wavelength (nm)\n",
       "0                  10.00      Violet[Deep]            404.7\n",
       "1                  11.54        Blue/Green            491.6\n",
       "2                  12.91             Green            546.1\n",
       "3                  13.72  Yellow-Orange(1)            577.0\n",
       "4                  13.78  Yellow-Orange(2)            579.1\n",
       "5                  14.69            Red(1)            623.4\n",
       "6                  14.76           Red(2)             690.8"
      ]
     },
     "metadata": {},
     "output_type": "display_data"
    },
    {
     "data": {
      "image/png": "[encoded data removed]",
      "text/plain": [
       "<Figure size 800x500 with 1 Axes>"
      ]
     },
     "metadata": {},
     "output_type": "display_data"
    },
    {
     "data": {
      "text/plain": [
       "array([586.88901099, 588.83626374])"
      ]
     },
     "execution_count": 7,
     "metadata": {},
     "output_type": "execute_result"
    }
   ],
   "source": [
    "print('--------Linear Readings for Order 1 Bands of Hg--------')\n",
    "display( data_dict['Linear-Order-1'] ) \n",
    "\n",
    "p = sodium_data['Linear Distance (cm) '].to_numpy()[:2]\n",
    "q = calibrate_interpolate(\n",
    "    x = data_dict['Linear-Order-1']['Linear Distance (cm) '].to_numpy() , \n",
    "    y = data_dict['Linear-Order-1']['Wavelength (nm)'].to_numpy() , p = p , order = 1 \n",
    ")\n",
    "\n",
    "sodium_wavelenght = np.append( sodium_wavelenght , q )\n",
    "q "
   ]
  },
  {
   "cell_type": "code",
   "execution_count": 8,
   "metadata": {},
   "outputs": [
    {
     "name": "stdout",
     "output_type": "stream",
     "text": [
      "--------Linear Readings for Order 2 Bands of Hg--------\n"
     ]
    },
    {
     "data": {
      "text/html": [
       "<div>\n",
       "<style scoped>\n",
       "    .dataframe tbody tr th:only-of-type {\n",
       "        vertical-align: middle;\n",
       "    }\n",
       "\n",
       "    .dataframe tbody tr th {\n",
       "        vertical-align: top;\n",
       "    }\n",
       "\n",
       "    .dataframe thead th {\n",
       "        text-align: right;\n",
       "    }\n",
       "</style>\n",
       "<table border=\"1\" class=\"dataframe\">\n",
       "  <thead>\n",
       "    <tr style=\"text-align: right;\">\n",
       "      <th></th>\n",
       "      <th>Linear Distance (cm)</th>\n",
       "      <th>Color</th>\n",
       "      <th>Wavelength (nm)</th>\n",
       "    </tr>\n",
       "  </thead>\n",
       "  <tbody>\n",
       "    <tr>\n",
       "      <th>0</th>\n",
       "      <td>21.24</td>\n",
       "      <td>Violet[Deep]</td>\n",
       "      <td>404.7</td>\n",
       "    </tr>\n",
       "    <tr>\n",
       "      <th>1</th>\n",
       "      <td>21.38</td>\n",
       "      <td>Violet</td>\n",
       "      <td>407.8</td>\n",
       "    </tr>\n",
       "    <tr>\n",
       "      <th>2</th>\n",
       "      <td>24.17</td>\n",
       "      <td>Blue/Green</td>\n",
       "      <td>491.6</td>\n",
       "    </tr>\n",
       "    <tr>\n",
       "      <th>3</th>\n",
       "      <td>27.00</td>\n",
       "      <td>Green</td>\n",
       "      <td>546.1</td>\n",
       "    </tr>\n",
       "    <tr>\n",
       "      <th>4</th>\n",
       "      <td>28.60</td>\n",
       "      <td>Yellow-Orange(1)</td>\n",
       "      <td>577.0</td>\n",
       "    </tr>\n",
       "    <tr>\n",
       "      <th>5</th>\n",
       "      <td>28.72</td>\n",
       "      <td>Yellow-Orange(2)</td>\n",
       "      <td>579.1</td>\n",
       "    </tr>\n",
       "    <tr>\n",
       "      <th>6</th>\n",
       "      <td>30.60</td>\n",
       "      <td>Red(1)</td>\n",
       "      <td>623.4</td>\n",
       "    </tr>\n",
       "    <tr>\n",
       "      <th>7</th>\n",
       "      <td>30.91</td>\n",
       "      <td>Red(2)</td>\n",
       "      <td>690.8</td>\n",
       "    </tr>\n",
       "  </tbody>\n",
       "</table>\n",
       "</div>"
      ],
      "text/plain": [
       "   Linear Distance (cm)              Color  Wavelength (nm)\n",
       "0                  21.24      Violet[Deep]            404.7\n",
       "1                  21.38            Violet            407.8\n",
       "2                  24.17        Blue/Green            491.6\n",
       "3                  27.00             Green            546.1\n",
       "4                  28.60  Yellow-Orange(1)            577.0\n",
       "5                  28.72  Yellow-Orange(2)            579.1\n",
       "6                  30.60            Red(1)            623.4\n",
       "7                  30.91           Red(2)             690.8"
      ]
     },
     "metadata": {},
     "output_type": "display_data"
    },
    {
     "data": {
      "image/png": "[encoded data removed]",
      "text/plain": [
       "<Figure size 800x500 with 1 Axes>"
      ]
     },
     "metadata": {},
     "output_type": "display_data"
    },
    {
     "data": {
      "text/plain": [
       "array([591.11755319, 591.58882979])"
      ]
     },
     "execution_count": 8,
     "metadata": {},
     "output_type": "execute_result"
    }
   ],
   "source": [
    "print('--------Linear Readings for Order 2 Bands of Hg--------')\n",
    "display( data_dict['Linear-Order-2'] ) \n",
    "\n",
    "p = sodium_data['Linear Distance (cm) '].to_numpy()[2:]\n",
    "q = calibrate_interpolate(\n",
    "    x = data_dict['Linear-Order-2']['Linear Distance (cm) '].to_numpy() , \n",
    "    y = data_dict['Linear-Order-2']['Wavelength (nm)'].to_numpy() , p = p , order = 2\n",
    ")\n",
    "\n",
    "sodium_wavelenght = np.append( sodium_wavelenght , q )\n",
    "q"
   ]
  },
  {
   "cell_type": "code",
   "execution_count": 9,
   "metadata": {},
   "outputs": [
    {
     "name": "stdout",
     "output_type": "stream",
     "text": [
      "--------Angular Readings for Order 1 Bands of Hg--------\n"
     ]
    },
    {
     "data": {
      "text/html": [
       "<div>\n",
       "<style scoped>\n",
       "    .dataframe tbody tr th:only-of-type {\n",
       "        vertical-align: middle;\n",
       "    }\n",
       "\n",
       "    .dataframe tbody tr th {\n",
       "        vertical-align: top;\n",
       "    }\n",
       "\n",
       "    .dataframe thead th {\n",
       "        text-align: right;\n",
       "    }\n",
       "</style>\n",
       "<table border=\"1\" class=\"dataframe\">\n",
       "  <thead>\n",
       "    <tr style=\"text-align: right;\">\n",
       "      <th></th>\n",
       "      <th>Angular Distance (*)</th>\n",
       "      <th>Color</th>\n",
       "      <th>Wavelength (nm)</th>\n",
       "    </tr>\n",
       "  </thead>\n",
       "  <tbody>\n",
       "    <tr>\n",
       "      <th>0</th>\n",
       "      <td>3.8</td>\n",
       "      <td>Violet[Deep]</td>\n",
       "      <td>404.7</td>\n",
       "    </tr>\n",
       "    <tr>\n",
       "      <th>1</th>\n",
       "      <td>2.0</td>\n",
       "      <td>Blue/Green</td>\n",
       "      <td>491.6</td>\n",
       "    </tr>\n",
       "    <tr>\n",
       "      <th>2</th>\n",
       "      <td>0.0</td>\n",
       "      <td>Green</td>\n",
       "      <td>546.1</td>\n",
       "    </tr>\n",
       "    <tr>\n",
       "      <th>3</th>\n",
       "      <td>-0.8</td>\n",
       "      <td>Yellow-Orange(1)</td>\n",
       "      <td>577.0</td>\n",
       "    </tr>\n",
       "    <tr>\n",
       "      <th>4</th>\n",
       "      <td>-1.0</td>\n",
       "      <td>Yellow-Orange(2)</td>\n",
       "      <td>579.1</td>\n",
       "    </tr>\n",
       "    <tr>\n",
       "      <th>5</th>\n",
       "      <td>-2.2</td>\n",
       "      <td>Red(1)</td>\n",
       "      <td>623.4</td>\n",
       "    </tr>\n",
       "    <tr>\n",
       "      <th>6</th>\n",
       "      <td>-2.4</td>\n",
       "      <td>Red(2)</td>\n",
       "      <td>690.8</td>\n",
       "    </tr>\n",
       "  </tbody>\n",
       "</table>\n",
       "</div>"
      ],
      "text/plain": [
       "   Angular Distance (*)             Color  Wavelength (nm)\n",
       "0                   3.8      Violet[Deep]            404.7\n",
       "1                   2.0        Blue/Green            491.6\n",
       "2                   0.0             Green            546.1\n",
       "3                  -0.8  Yellow-Orange(1)            577.0\n",
       "4                  -1.0  Yellow-Orange(2)            579.1\n",
       "5                  -2.2            Red(1)            623.4\n",
       "6                  -2.4           Red(2)             690.8"
      ]
     },
     "execution_count": 9,
     "metadata": {},
     "output_type": "execute_result"
    }
   ],
   "source": [
    "print('--------Angular Readings for Order 1 Bands of Hg--------')\n",
    "data_dict['Angular-Order-1']"
   ]
  },
  {
   "cell_type": "code",
   "execution_count": 10,
   "metadata": {},
   "outputs": [
    {
     "name": "stdout",
     "output_type": "stream",
     "text": [
      "--------Angular Readings for Order 2 Bands of Hg--------\n"
     ]
    },
    {
     "data": {
      "text/html": [
       "<div>\n",
       "<style scoped>\n",
       "    .dataframe tbody tr th:only-of-type {\n",
       "        vertical-align: middle;\n",
       "    }\n",
       "\n",
       "    .dataframe tbody tr th {\n",
       "        vertical-align: top;\n",
       "    }\n",
       "\n",
       "    .dataframe thead th {\n",
       "        text-align: right;\n",
       "    }\n",
       "</style>\n",
       "<table border=\"1\" class=\"dataframe\">\n",
       "  <thead>\n",
       "    <tr style=\"text-align: right;\">\n",
       "      <th></th>\n",
       "      <th>Angular Distance (*)</th>\n",
       "      <th>Color</th>\n",
       "      <th>Wavelength (nm)</th>\n",
       "    </tr>\n",
       "  </thead>\n",
       "  <tbody>\n",
       "    <tr>\n",
       "      <th>0</th>\n",
       "      <td>7.8</td>\n",
       "      <td>Violet[Deep]</td>\n",
       "      <td>404.7</td>\n",
       "    </tr>\n",
       "    <tr>\n",
       "      <th>1</th>\n",
       "      <td>7.6</td>\n",
       "      <td>Violet</td>\n",
       "      <td>407.8</td>\n",
       "    </tr>\n",
       "    <tr>\n",
       "      <th>2</th>\n",
       "      <td>3.8</td>\n",
       "      <td>Blue/Green</td>\n",
       "      <td>491.6</td>\n",
       "    </tr>\n",
       "    <tr>\n",
       "      <th>3</th>\n",
       "      <td>0.0</td>\n",
       "      <td>Green</td>\n",
       "      <td>546.1</td>\n",
       "    </tr>\n",
       "    <tr>\n",
       "      <th>4</th>\n",
       "      <td>-2.2</td>\n",
       "      <td>Yellow-Orange(1)</td>\n",
       "      <td>577.0</td>\n",
       "    </tr>\n",
       "    <tr>\n",
       "      <th>5</th>\n",
       "      <td>-2.4</td>\n",
       "      <td>Yellow-Orange(2)</td>\n",
       "      <td>579.1</td>\n",
       "    </tr>\n",
       "    <tr>\n",
       "      <th>6</th>\n",
       "      <td>-4.8</td>\n",
       "      <td>Red(1)</td>\n",
       "      <td>623.4</td>\n",
       "    </tr>\n",
       "    <tr>\n",
       "      <th>7</th>\n",
       "      <td>-5.2</td>\n",
       "      <td>Red(2)</td>\n",
       "      <td>690.8</td>\n",
       "    </tr>\n",
       "  </tbody>\n",
       "</table>\n",
       "</div>"
      ],
      "text/plain": [
       "   Angular Distance (*)             Color  Wavelength (nm)\n",
       "0                   7.8      Violet[Deep]            404.7\n",
       "1                   7.6            Violet            407.8\n",
       "2                   3.8        Blue/Green            491.6\n",
       "3                   0.0             Green            546.1\n",
       "4                  -2.2  Yellow-Orange(1)            577.0\n",
       "5                  -2.4  Yellow-Orange(2)            579.1\n",
       "6                  -4.8            Red(1)            623.4\n",
       "7                  -5.2           Red(2)             690.8"
      ]
     },
     "execution_count": 10,
     "metadata": {},
     "output_type": "execute_result"
    }
   ],
   "source": [
    "print('--------Angular Readings for Order 2 Bands of Hg--------')\n",
    "data_dict['Angular-Order-2']"
   ]
  },
  {
   "cell_type": "code",
   "execution_count": 11,
   "metadata": {},
   "outputs": [
    {
     "data": {
      "text/html": [
       "<div>\n",
       "<style scoped>\n",
       "    .dataframe tbody tr th:only-of-type {\n",
       "        vertical-align: middle;\n",
       "    }\n",
       "\n",
       "    .dataframe tbody tr th {\n",
       "        vertical-align: top;\n",
       "    }\n",
       "\n",
       "    .dataframe thead th {\n",
       "        text-align: right;\n",
       "    }\n",
       "</style>\n",
       "<table border=\"1\" class=\"dataframe\">\n",
       "  <thead>\n",
       "    <tr style=\"text-align: right;\">\n",
       "      <th></th>\n",
       "      <th>Linear Distance (cm)</th>\n",
       "      <th>Color</th>\n",
       "      <th>Order</th>\n",
       "      <th>Calculated Wavelenght (nm)</th>\n",
       "    </tr>\n",
       "  </thead>\n",
       "  <tbody>\n",
       "    <tr>\n",
       "      <th>0</th>\n",
       "      <td>13.94</td>\n",
       "      <td>Yellow(1)</td>\n",
       "      <td>1</td>\n",
       "      <td>586.889011</td>\n",
       "    </tr>\n",
       "    <tr>\n",
       "      <th>1</th>\n",
       "      <td>13.98</td>\n",
       "      <td>Yellow(2)</td>\n",
       "      <td>1</td>\n",
       "      <td>588.836264</td>\n",
       "    </tr>\n",
       "    <tr>\n",
       "      <th>2</th>\n",
       "      <td>29.23</td>\n",
       "      <td>Yellow(1)</td>\n",
       "      <td>2</td>\n",
       "      <td>591.117553</td>\n",
       "    </tr>\n",
       "    <tr>\n",
       "      <th>3</th>\n",
       "      <td>29.25</td>\n",
       "      <td>Yellow(2)</td>\n",
       "      <td>2</td>\n",
       "      <td>591.588830</td>\n",
       "    </tr>\n",
       "  </tbody>\n",
       "</table>\n",
       "</div>"
      ],
      "text/plain": [
       "   Linear Distance (cm)        Color  Order  Calculated Wavelenght (nm)\n",
       "0                  13.94  Yellow(1)       1                  586.889011\n",
       "1                  13.98  Yellow(2)       1                  588.836264\n",
       "2                  29.23  Yellow(1)       2                  591.117553\n",
       "3                  29.25  Yellow(2)       2                  591.588830"
      ]
     },
     "execution_count": 11,
     "metadata": {},
     "output_type": "execute_result"
    }
   ],
   "source": [
    "sodium_data['Calculated Wavelenght (nm)'] = sodium_wavelenght \n",
    "sodium_data"
   ]
  }
 ],
 "metadata": {
  "kernelspec": {
   "display_name": "Python 3",
   "language": "python",
   "name": "python3"
  },
  "language_info": {
   "codemirror_mode": {
    "name": "ipython",
    "version": 3
   },
   "file_extension": ".py",
   "mimetype": "text/x-python",
   "name": "python",
   "nbconvert_exporter": "python",
   "pygments_lexer": "ipython3",
   "version": "3.12.3"
  }
 },
 "nbformat": 4,
 "nbformat_minor": 2
}
