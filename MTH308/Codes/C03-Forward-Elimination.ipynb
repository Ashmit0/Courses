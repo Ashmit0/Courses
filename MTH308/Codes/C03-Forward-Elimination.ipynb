{
 "cells": [
  {
   "cell_type": "code",
   "execution_count": 1,
   "id": "b1bd98ab-0089-4280-9e0e-77650eed86e0",
   "metadata": {},
   "outputs": [],
   "source": [
    "import numpy as np \n",
    "\n",
    "def GE( U , b ) : \n",
    "    '''\n",
    "    Param U: nxn matrix of the coefficients. ( Upper Trangular ) \n",
    "    Param b: nx1 matrix of the constants in the equation. \n",
    "    '''\n",
    "    if( type( U ) == list ):\n",
    "        U = np.array( U , dtype = float  ) \n",
    "    if( type( b ) == list ) :\n",
    "        b = np.array( b , dtype = float )\n",
    "\n",
    "    n = U.shape[0] \n",
    "    \n",
    "    if( n != U.shape[1] ) : \n",
    "        raise ValueError('U must be a square matrix') \n",
    "    if( n != b.shape[0] ) : \n",
    "        raise ValueError('Dimentions of U and b do not match' ) \n",
    "    \n",
    "    b = b.reshape( ( n, -1 ) ) \n",
    "    U = np.concatenate( ( U , b ) , axis = 1  )\n",
    "\n",
    "    for i in range( n - 1 ) : \n",
    "        for j in range( i + 1 , n ) : \n",
    "            U[j,:] -= ( U[j,i]/U[i,i] )*U[i,:] \n",
    "\n",
    "    return U[: , :n ] , U[: , -1 ] \n"
   ]
  },
  {
   "cell_type": "code",
   "execution_count": 2,
   "id": "eb0a40b9-d4b3-42ae-9fc5-0b194cea8b37",
   "metadata": {},
   "outputs": [],
   "source": [
    "# back substitution \n",
    "\n",
    "def BackSt( U , b ): \n",
    "    '''\n",
    "    Param U: nxn matrix of the coefficients. ( Upper Trangular ) \n",
    "    Param b: nx1 matrix of the constants in the equation. \n",
    "    '''\n",
    "    if( type( U ) == list ) :\n",
    "        U = np.array( U , dtype = float  ) \n",
    "    if( type( b ) == list ) :\n",
    "        b = np.array( b , dtype = float )\n",
    "\n",
    "    n = U.shape[0] \n",
    "    \n",
    "    if( n != U.shape[1] ) : \n",
    "        raise ValueError('U must be a square matrix') \n",
    "    if( n != b.shape[0] ) : \n",
    "        raise ValueError('Dimentions of U and b do not match' ) \n",
    "\n",
    "    x = np.zeros( n )\n",
    "    \n",
    "    x[n-1] = b[n-1]/U[ n -1 , n -1 ] \n",
    "\n",
    "    for i in range( n -2 , -1 , -1 ) : \n",
    "        temp = .0 \n",
    "        for j in range( i + 1 , n ) : \n",
    "            temp += x[j]*U[i,j]\n",
    "        x[i] = ( b[i] - temp )/U[i,i] \n",
    "    \n",
    "    return x "
   ]
  },
  {
   "cell_type": "code",
   "execution_count": 3,
   "id": "17ef2ee3-824d-4c43-be83-ae811666f26e",
   "metadata": {},
   "outputs": [],
   "source": [
    "def GEPP( U , b ) : \n",
    "    '''\n",
    "    Param U: nxn matrix of the coefficients. ( Upper Trangular ) \n",
    "    Param b: nx1 matrix of the constants in the equation. \n",
    "    '''\n",
    "    \n",
    "    if( type( U ) == list ):\n",
    "        U = np.array( U , dtype = float  ) \n",
    "    if( type( b ) == list ) :\n",
    "        b = np.array( b , dtype = float )\n",
    "\n",
    "    n = U.shape[0] \n",
    "\n",
    "    # define the pivot list : \n",
    "    p = np.arange( n ) \n",
    "    \n",
    "    if( n != U.shape[1] ) : \n",
    "        raise ValueError('U must be a square matrix') \n",
    "    if( n != b.shape[0] ) : \n",
    "        raise ValueError('Dimentions of U and b do not match' ) \n",
    "    \n",
    "    b = b.reshape( ( n, -1 ) ) \n",
    "    U = np.concatenate( ( U , b ) , axis = 1  )\n",
    "\n",
    "    for i in range(  n -1 ) : \n",
    "        # find the max element from the row elements bellow :\n",
    "        m = i \n",
    "        for j in range( i + 1 , n  ) : \n",
    "            if  abs( U[p[m],i] ) < abs( U[p[j],i]) : \n",
    "                m = j \n",
    "        # swich the rows \n",
    "        l = p[i] \n",
    "        p[i] = p[m] \n",
    "        p[m] = l \n",
    "\n",
    "        # apply a step of GE : \n",
    "        for j in range( i + 1 , n ) : \n",
    "            U[p[j],:] -= ( U[p[j],i]/U[p[i],i] )*U[p[i],:] \n",
    "        \n",
    "    return U[: , :n ] , U[: , -1 ] , p  \n"
   ]
  },
  {
   "cell_type": "code",
   "execution_count": 4,
   "id": "11ed0641-9069-4d42-ad63-bb89bce721b1",
   "metadata": {},
   "outputs": [],
   "source": [
    "# back substitution with partial pivoting ! \n",
    "\n",
    "def BackStPP( U , b , p ): \n",
    "    '''\n",
    "    Param U: nxn matrix of the coefficients. ( Upper Trangular ) \n",
    "    Param b: nx1 matrix of the constants in the equation. \n",
    "    '''\n",
    "    if( type( U ) == list ) :\n",
    "        U = np.array( U , dtype = float  ) \n",
    "    if( type( b ) == list ) :\n",
    "        b = np.array( b , dtype = float )\n",
    "    if type( p ) == list : \n",
    "        p = np.array( p ) \n",
    "\n",
    "    n = U.shape[0] \n",
    "    \n",
    "    if( n != U.shape[1] ) : \n",
    "        raise ValueError('U must be a square matrix') \n",
    "    if( n != b.shape[0] ) : \n",
    "        raise ValueError('Dimentions of U and b do not match' ) \n",
    "    if( n != p.shape[0] ) : \n",
    "        raise ValueError('Dimentions of p and U do not match' ) \n",
    "    \n",
    "    x = np.zeros( n )\n",
    "    \n",
    "    x[n-1] = b[p[n-1]]/U[ p[n-1] , n-1 ] \n",
    "\n",
    "    for i in range( n -2 , -1 , -1 ) : \n",
    "        temp = .0 \n",
    "        for j in range( i + 1 , n ) : \n",
    "            temp += x[j]*U[p[i],j]\n",
    "        x[i] = ( b[p[i]] - temp )/U[p[i],i] \n",
    "    \n",
    "    return x "
   ]
  },
  {
   "cell_type": "code",
   "execution_count": 5,
   "id": "61cd723a",
   "metadata": {},
   "outputs": [],
   "source": [
    "# determinant with partial pivoting : \n",
    "def detPP( U ) : \n",
    "    '''\n",
    "    Param U: nxn matrix of the coefficients. ( Upper Trangular ) \n",
    "    '''\n",
    "    \n",
    "    if( type( U ) == list ):\n",
    "        U = np.array( U , dtype = float  ) \n",
    "\n",
    "    n = U.shape[0] \n",
    "\n",
    "    # define the pivot list : \n",
    "    p = np.arange( n ) \n",
    "    \n",
    "    if( n != U.shape[1] ) : \n",
    "        raise ValueError('U must be a square matrix') \n",
    "\n",
    "    for i in range(  n -1 ) : \n",
    "        # find the max element from the row elements bellow :\n",
    "        m = i \n",
    "        for j in range( i + 1 , n  ) : \n",
    "            if  abs( U[p[m],i] ) < abs( U[p[j],i]) : \n",
    "                m = j \n",
    "        # swich the rows \n",
    "        l = p[i] \n",
    "        p[i] = p[m] \n",
    "        p[m] = l \n",
    "\n",
    "        # apply a step of GE : \n",
    "        for j in range( i + 1 , n ) : \n",
    "            U[p[j],:] -= ( U[p[j],i]/U[p[i],i] )*U[p[i],:] \n",
    "        \n",
    "    temp = 1 \n",
    "    for i in range(n): \n",
    "        temp *= U[p[i],i]\n",
    "    \n",
    "    return temp "
   ]
  },
  {
   "cell_type": "code",
   "execution_count": 6,
   "id": "f49c321b-b8fd-49e5-b238-05252c412456",
   "metadata": {},
   "outputs": [],
   "source": [
    "U = np.array( [ [ 1 , 2 , 4  ] , \n",
    "               [ 3 , 4  , 8 ] , \n",
    "              [ 2, 4 , 12] ]  , dtype = float ) \n",
    "b = np.array( [ 2 , 7, 12 ]  , dtype = float )\n"
   ]
  },
  {
   "cell_type": "code",
   "execution_count": 7,
   "id": "4be0320b",
   "metadata": {},
   "outputs": [
    {
     "data": {
      "text/plain": [
       "-8.0"
      ]
     },
     "execution_count": 7,
     "metadata": {},
     "output_type": "execute_result"
    }
   ],
   "source": [
    "detPP( U )"
   ]
  },
  {
   "cell_type": "code",
   "execution_count": 8,
   "id": "42f41a15-7bc0-44e1-ae1e-6947636c7746",
   "metadata": {},
   "outputs": [
    {
     "data": {
      "text/plain": [
       "array([[ 0.        ,  0.        , -2.        ],\n",
       "       [ 3.        ,  4.        ,  8.        ],\n",
       "       [ 0.        ,  1.33333333,  6.66666667]])"
      ]
     },
     "execution_count": 8,
     "metadata": {},
     "output_type": "execute_result"
    }
   ],
   "source": [
    "U "
   ]
  },
  {
   "cell_type": "code",
   "execution_count": 9,
   "id": "76e805ac-7f99-43a9-b571-7200edfcde06",
   "metadata": {},
   "outputs": [
    {
     "data": {
      "text/plain": [
       "array([ 2.,  7., 12.])"
      ]
     },
     "execution_count": 9,
     "metadata": {},
     "output_type": "execute_result"
    }
   ],
   "source": [
    "b"
   ]
  },
  {
   "cell_type": "code",
   "execution_count": 10,
   "id": "abd43c9d",
   "metadata": {},
   "outputs": [
    {
     "data": {
      "text/plain": [
       "array([[ 2.],\n",
       "       [ 7.],\n",
       "       [12.]])"
      ]
     },
     "execution_count": 10,
     "metadata": {},
     "output_type": "execute_result"
    }
   ],
   "source": [
    "b = b.reshape( ( 3 ,1  ))\n",
    "b "
   ]
  },
  {
   "cell_type": "code",
   "execution_count": 11,
   "id": "ac82a338",
   "metadata": {},
   "outputs": [
    {
     "data": {
      "text/plain": [
       "array([[ 0.        ,  0.        , -2.        ,  2.        ],\n",
       "       [ 3.        ,  4.        ,  8.        ,  7.        ],\n",
       "       [ 0.        ,  1.33333333,  6.66666667, 12.        ]])"
      ]
     },
     "execution_count": 11,
     "metadata": {},
     "output_type": "execute_result"
    }
   ],
   "source": [
    "np.concatenate( ( U , b ) , axis = 1 )"
   ]
  },
  {
   "cell_type": "code",
   "execution_count": 12,
   "id": "80ff26fc",
   "metadata": {},
   "outputs": [
    {
     "data": {
      "text/plain": [
       "array([[ 0.        ,  0.        , -2.        ],\n",
       "       [ 3.        ,  4.        ,  8.        ],\n",
       "       [ 0.        ,  1.33333333,  6.66666667]])"
      ]
     },
     "execution_count": 12,
     "metadata": {},
     "output_type": "execute_result"
    }
   ],
   "source": [
    "U "
   ]
  },
  {
   "cell_type": "code",
   "execution_count": 13,
   "id": "9c4e8523-bdb6-4d0c-a347-a1f0a168e19d",
   "metadata": {},
   "outputs": [
    {
     "name": "stderr",
     "output_type": "stream",
     "text": [
      "/var/folders/kb/nnzj_yrn3n7cy09fy5x_kcsc0000gn/T/ipykernel_20192/1431520095.py:25: RuntimeWarning: divide by zero encountered in scalar divide\n",
      "  U[j,:] -= ( U[j,i]/U[i,i] )*U[i,:]\n",
      "/var/folders/kb/nnzj_yrn3n7cy09fy5x_kcsc0000gn/T/ipykernel_20192/1431520095.py:25: RuntimeWarning: invalid value encountered in multiply\n",
      "  U[j,:] -= ( U[j,i]/U[i,i] )*U[i,:]\n",
      "/var/folders/kb/nnzj_yrn3n7cy09fy5x_kcsc0000gn/T/ipykernel_20192/1431520095.py:25: RuntimeWarning: invalid value encountered in scalar divide\n",
      "  U[j,:] -= ( U[j,i]/U[i,i] )*U[i,:]\n"
     ]
    }
   ],
   "source": [
    "U1 , b1 = GE( U , b ) \n",
    "U2, b2 , p = GEPP( U , b ) "
   ]
  },
  {
   "cell_type": "code",
   "execution_count": 14,
   "id": "7d3a2110-656e-4cdc-9333-19a3e432f7f7",
   "metadata": {},
   "outputs": [
    {
     "data": {
      "text/plain": [
       "array([[ 0.,  0., -2.],\n",
       "       [nan, nan, inf],\n",
       "       [nan, nan, nan]])"
      ]
     },
     "execution_count": 14,
     "metadata": {},
     "output_type": "execute_result"
    }
   ],
   "source": [
    "U1"
   ]
  },
  {
   "cell_type": "code",
   "execution_count": 15,
   "id": "c321d1d2-941f-402e-ae6b-e269381aca7e",
   "metadata": {},
   "outputs": [
    {
     "data": {
      "text/plain": [
       "array([  2., -inf,  nan])"
      ]
     },
     "execution_count": 15,
     "metadata": {},
     "output_type": "execute_result"
    }
   ],
   "source": [
    "b1"
   ]
  },
  {
   "cell_type": "code",
   "execution_count": 16,
   "id": "255c7f76-8ae0-42eb-a08d-7f76efe11e51",
   "metadata": {},
   "outputs": [
    {
     "data": {
      "text/plain": [
       "array([[ 0.        ,  0.        , -2.        ],\n",
       "       [ 3.        ,  4.        ,  8.        ],\n",
       "       [ 0.        ,  1.33333333,  6.66666667]])"
      ]
     },
     "execution_count": 16,
     "metadata": {},
     "output_type": "execute_result"
    }
   ],
   "source": [
    "U2"
   ]
  },
  {
   "cell_type": "code",
   "execution_count": 17,
   "id": "6b7d3745-680c-486d-af40-b513bcbb96f8",
   "metadata": {},
   "outputs": [
    {
     "data": {
      "text/plain": [
       "array([ 2.,  7., 12.])"
      ]
     },
     "execution_count": 17,
     "metadata": {},
     "output_type": "execute_result"
    }
   ],
   "source": [
    "b2"
   ]
  },
  {
   "cell_type": "code",
   "execution_count": 18,
   "id": "cbe2252f-7258-4a8d-9aa7-98ea18d0dd8d",
   "metadata": {},
   "outputs": [
    {
     "data": {
      "text/plain": [
       "array([1, 2, 0])"
      ]
     },
     "execution_count": 18,
     "metadata": {},
     "output_type": "execute_result"
    }
   ],
   "source": [
    "p"
   ]
  },
  {
   "cell_type": "code",
   "execution_count": 19,
   "id": "349fd0ce",
   "metadata": {},
   "outputs": [
    {
     "data": {
      "text/plain": [
       "array([nan, nan, nan])"
      ]
     },
     "execution_count": 19,
     "metadata": {},
     "output_type": "execute_result"
    }
   ],
   "source": [
    "x = BackSt( U1 , b1 ) \n",
    "x "
   ]
  },
  {
   "cell_type": "code",
   "execution_count": 20,
   "id": "936de839",
   "metadata": {},
   "outputs": [
    {
     "data": {
      "text/plain": [
       "array([-13.66666667,  14.        ,  -1.        ])"
      ]
     },
     "execution_count": 20,
     "metadata": {},
     "output_type": "execute_result"
    }
   ],
   "source": [
    "x2 = BackStPP( U2 , b2 , p )\n",
    "x2  "
   ]
  },
  {
   "cell_type": "code",
   "execution_count": 21,
   "id": "a73f4191-6c8a-4a5a-93de-337ff7aa4499",
   "metadata": {},
   "outputs": [],
   "source": [
    "U = [\n",
    "    [ 12 , 10 , -7 ] , \n",
    "    [ 6 , 5 , 3 ] , \n",
    "    [ 5 , -1 , 5 ] \n",
    "]\n",
    "\n",
    "b = [ 15 , 14 , 9 ] "
   ]
  },
  {
   "cell_type": "code",
   "execution_count": 22,
   "id": "4a8d2cd4-71d7-4686-aa97-93dda34dab54",
   "metadata": {},
   "outputs": [
    {
     "name": "stderr",
     "output_type": "stream",
     "text": [
      "/var/folders/kb/nnzj_yrn3n7cy09fy5x_kcsc0000gn/T/ipykernel_20192/1431520095.py:25: RuntimeWarning: divide by zero encountered in scalar divide\n",
      "  U[j,:] -= ( U[j,i]/U[i,i] )*U[i,:]\n",
      "/var/folders/kb/nnzj_yrn3n7cy09fy5x_kcsc0000gn/T/ipykernel_20192/1431520095.py:25: RuntimeWarning: invalid value encountered in multiply\n",
      "  U[j,:] -= ( U[j,i]/U[i,i] )*U[i,:]\n"
     ]
    },
    {
     "data": {
      "text/plain": [
       "(array([[12. , 10. , -7. ],\n",
       "        [ 0. ,  0. ,  6.5],\n",
       "        [ nan,  nan,  inf]]),\n",
       " array([15. ,  6.5,  inf]))"
      ]
     },
     "execution_count": 22,
     "metadata": {},
     "output_type": "execute_result"
    }
   ],
   "source": [
    "U1, b1 = GE( U , b ) \n",
    "U1 , b1 "
   ]
  },
  {
   "cell_type": "code",
   "execution_count": 23,
   "id": "7a7687e2-4901-4d20-8556-0f6139adb50f",
   "metadata": {},
   "outputs": [
    {
     "data": {
      "text/plain": [
       "(array([[12.        , 10.        , -7.        ],\n",
       "        [ 0.        ,  0.        ,  6.5       ],\n",
       "        [ 0.        , -5.16666667,  7.91666667]]),\n",
       " array([15.  ,  6.5 ,  2.75]),\n",
       " array([0, 2, 1]))"
      ]
     },
     "execution_count": 23,
     "metadata": {},
     "output_type": "execute_result"
    }
   ],
   "source": [
    "U1 , b1 , p = GEPP( U , b ) \n",
    "U1 , b1 , p "
   ]
  },
  {
   "cell_type": "code",
   "execution_count": 24,
   "id": "4252fe60-fd78-4789-aaf3-fb3f80b54327",
   "metadata": {},
   "outputs": [
    {
     "data": {
      "text/plain": [
       "array([1., 1., 1.])"
      ]
     },
     "execution_count": 24,
     "metadata": {},
     "output_type": "execute_result"
    }
   ],
   "source": [
    "x = BackStPP( U1 , b1 , p ) \n",
    "x "
   ]
  }
 ],
 "metadata": {
  "kernelspec": {
   "display_name": "Python 3",
   "language": "python",
   "name": "python3"
  },
  "language_info": {
   "codemirror_mode": {
    "name": "ipython",
    "version": 3
   },
   "file_extension": ".py",
   "mimetype": "text/x-python",
   "name": "python",
   "nbconvert_exporter": "python",
   "pygments_lexer": "ipython3",
   "version": "3.12.3"
  }
 },
 "nbformat": 4,
 "nbformat_minor": 5
}
