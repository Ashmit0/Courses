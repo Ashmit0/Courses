{
 "cells": [
  {
   "cell_type": "code",
   "execution_count": 1,
   "metadata": {},
   "outputs": [],
   "source": [
    "# import necessary libraries \n",
    "import numpy as np \n",
    "import pandas as pd \n",
    "# pd.set_option('display.float_format', lambda x: '%.3e' % x)\n",
    "import matplotlib.pyplot as plt "
   ]
  },
  {
   "cell_type": "code",
   "execution_count": 2,
   "metadata": {},
   "outputs": [],
   "source": [
    "# define a general function to implement the bijection method \n",
    "def bisection( f , ini_xl:float , ini_xr:float , max_itr:int = 10 , tolerance:float = 1e-2 ) : \n",
    "    '''\n",
    "    param f: function f to apply bijection mehtod on. \n",
    "    param ini_xl: initial left guess of the solution. \n",
    "    param ini_xr: initial right guess of the soultion. \n",
    "    param max_itr: maximum num of iteration the method to run for. \n",
    "    param tolerance: max allowed error (absolute relative approximate error). \n",
    "    var xl: list of all the left gusses. \n",
    "    var xr: list of all the right gusses. \n",
    "    var xm: list of the current guess for the solution, middle point of the current range. \n",
    "    var err: list of the error for each iteration, first entry is None. \n",
    "    '''\n",
    "    # Ensures that the function changes sign within the range \n",
    "    if( f(ini_xr)*f(ini_xl) >= 0 ): \n",
    "        raise ValueError('The two initital guesses have the same functional sign.' )\n",
    "    \n",
    "    if( ini_xl >= ini_xr ): \n",
    "        raise ValueError('The left guess should be strictly smaller than the right one.')\n",
    "    \n",
    "    xl , xr , xm, err = [ini_xl] , [ini_xr] , [(ini_xr+ini_xl)/2] , [None]\n",
    "    fxm = [f( xm[-1]) ]\n",
    "    itr = 0 # keeps trak of the iterations : \n",
    "    \n",
    "    while( itr < max_itr -1  and (err[-1] == None or err[-1] > tolerance ) ): \n",
    "        if( f( xl[-1] )*f( xm[-1] ) < 0 ): \n",
    "            xr.append( xm[-1] )\n",
    "            xl.append( xl[-1] )\n",
    "        else:     \n",
    "            xl.append( xm[-1] )\n",
    "            xr.append( xr[-1] )\n",
    "        xm.append( ( xl[-1] + xr[-1] )/2 )\n",
    "        err.append( abs((xm[-1]-xm[-2])/xm[-1])*100 )\n",
    "        fxm.append( f( xm[-1] ) )\n",
    "        itr += 1 \n",
    "    \n",
    "    if( itr == max_itr ): \n",
    "        print('-------Reached Max Iterations Limit---------')\n",
    "    \n",
    "    # stack the lists into one matrix : \n",
    "    data = np.stack((xl,xr,xm,err,fxm) , axis = 1)\n",
    "    # convert the matrix into a pandas data frame \n",
    "    data = pd.DataFrame( data , columns = ['Xl' , 'Xr' , 'Xm' , 'Error %' , 'f(Xm)'] )\n",
    "    \n",
    "    #return the solution guess and the dataframe : \n",
    "    return xm[-1] , data     "
   ]
  },
  {
   "cell_type": "code",
   "execution_count": 3,
   "metadata": {},
   "outputs": [
    {
     "data": {
      "image/png": "[encoded data removed]",
      "text/plain": [
       "<Figure size 640x480 with 1 Axes>"
      ]
     },
     "metadata": {},
     "output_type": "display_data"
    }
   ],
   "source": [
    "# Define the function : \n",
    "f = lambda x : x**3 - 0.165*(x**2) + 3.993*1e-4 \n",
    "# for x in 0 to 0.11 \n",
    "\n",
    "# let us print the function : \n",
    "xl , xr = 0 , 0.11 \n",
    "x = np.linspace( xl , xr  , 10000 )\n",
    "plt.plot( x , f( x ) )\n",
    "plt.hlines( y = [0] , xmin = xl , xmax = xr , linestyles='--' , colors='r')\n",
    "plt.xlabel(r'$x$')\n",
    "plt.ylabel(r'$f(x)$')\n",
    "plt.show()\n",
    "# we indeed have a solution between xl and xr and the function clearly had different signs between these points ! "
   ]
  },
  {
   "cell_type": "code",
   "execution_count": 4,
   "metadata": {},
   "outputs": [],
   "source": [
    "result , data = bisection( f , xl , xr )"
   ]
  },
  {
   "cell_type": "code",
   "execution_count": 5,
   "metadata": {},
   "outputs": [
    {
     "data": {
      "text/plain": [
       "0.06241210937500001"
      ]
     },
     "execution_count": 5,
     "metadata": {},
     "output_type": "execute_result"
    }
   ],
   "source": [
    "result"
   ]
  },
  {
   "cell_type": "code",
   "execution_count": 6,
   "metadata": {},
   "outputs": [],
   "source": [
    "data.to_csv('Ashmit_Bathla_A_1_Output.csv' , na_rep='---' , index_label='Iteration' , )"
   ]
  },
  {
   "cell_type": "code",
   "execution_count": 7,
   "metadata": {},
   "outputs": [
    {
     "data": {
      "text/html": [
       "<div>\n",
       "<style scoped>\n",
       "    .dataframe tbody tr th:only-of-type {\n",
       "        vertical-align: middle;\n",
       "    }\n",
       "\n",
       "    .dataframe tbody tr th {\n",
       "        vertical-align: top;\n",
       "    }\n",
       "\n",
       "    .dataframe thead th {\n",
       "        text-align: right;\n",
       "    }\n",
       "</style>\n",
       "<table border=\"1\" class=\"dataframe\">\n",
       "  <thead>\n",
       "    <tr style=\"text-align: right;\">\n",
       "      <th></th>\n",
       "      <th>Xl</th>\n",
       "      <th>Xr</th>\n",
       "      <th>Xm</th>\n",
       "      <th>Error %</th>\n",
       "      <th>f(Xm)</th>\n",
       "    </tr>\n",
       "  </thead>\n",
       "  <tbody>\n",
       "    <tr>\n",
       "      <th>0</th>\n",
       "      <td>0.0</td>\n",
       "      <td>0.11</td>\n",
       "      <td>0.055</td>\n",
       "      <td>None</td>\n",
       "      <td>0.000067</td>\n",
       "    </tr>\n",
       "    <tr>\n",
       "      <th>1</th>\n",
       "      <td>0.055</td>\n",
       "      <td>0.11</td>\n",
       "      <td>0.0825</td>\n",
       "      <td>33.333333</td>\n",
       "      <td>-0.000162</td>\n",
       "    </tr>\n",
       "    <tr>\n",
       "      <th>2</th>\n",
       "      <td>0.055</td>\n",
       "      <td>0.0825</td>\n",
       "      <td>0.06875</td>\n",
       "      <td>20.0</td>\n",
       "      <td>-0.000056</td>\n",
       "    </tr>\n",
       "    <tr>\n",
       "      <th>3</th>\n",
       "      <td>0.055</td>\n",
       "      <td>0.06875</td>\n",
       "      <td>0.061875</td>\n",
       "      <td>11.111111</td>\n",
       "      <td>0.000004</td>\n",
       "    </tr>\n",
       "    <tr>\n",
       "      <th>4</th>\n",
       "      <td>0.061875</td>\n",
       "      <td>0.06875</td>\n",
       "      <td>0.065312</td>\n",
       "      <td>5.263158</td>\n",
       "      <td>-0.000026</td>\n",
       "    </tr>\n",
       "    <tr>\n",
       "      <th>5</th>\n",
       "      <td>0.061875</td>\n",
       "      <td>0.065312</td>\n",
       "      <td>0.063594</td>\n",
       "      <td>2.702703</td>\n",
       "      <td>-0.000011</td>\n",
       "    </tr>\n",
       "    <tr>\n",
       "      <th>6</th>\n",
       "      <td>0.061875</td>\n",
       "      <td>0.063594</td>\n",
       "      <td>0.062734</td>\n",
       "      <td>1.369863</td>\n",
       "      <td>-0.000003</td>\n",
       "    </tr>\n",
       "    <tr>\n",
       "      <th>7</th>\n",
       "      <td>0.061875</td>\n",
       "      <td>0.062734</td>\n",
       "      <td>0.062305</td>\n",
       "      <td>0.689655</td>\n",
       "      <td>0.000001</td>\n",
       "    </tr>\n",
       "    <tr>\n",
       "      <th>8</th>\n",
       "      <td>0.062305</td>\n",
       "      <td>0.062734</td>\n",
       "      <td>0.06252</td>\n",
       "      <td>0.343643</td>\n",
       "      <td>-0.000001</td>\n",
       "    </tr>\n",
       "    <tr>\n",
       "      <th>9</th>\n",
       "      <td>0.062305</td>\n",
       "      <td>0.06252</td>\n",
       "      <td>0.062412</td>\n",
       "      <td>0.172117</td>\n",
       "      <td>-0.0</td>\n",
       "    </tr>\n",
       "  </tbody>\n",
       "</table>\n",
       "</div>"
      ],
      "text/plain": [
       "         Xl        Xr        Xm    Error %     f(Xm)\n",
       "0       0.0      0.11     0.055       None  0.000067\n",
       "1     0.055      0.11    0.0825  33.333333 -0.000162\n",
       "2     0.055    0.0825   0.06875       20.0 -0.000056\n",
       "3     0.055   0.06875  0.061875  11.111111  0.000004\n",
       "4  0.061875   0.06875  0.065312   5.263158 -0.000026\n",
       "5  0.061875  0.065312  0.063594   2.702703 -0.000011\n",
       "6  0.061875  0.063594  0.062734   1.369863 -0.000003\n",
       "7  0.061875  0.062734  0.062305   0.689655  0.000001\n",
       "8  0.062305  0.062734   0.06252   0.343643 -0.000001\n",
       "9  0.062305   0.06252  0.062412   0.172117      -0.0"
      ]
     },
     "execution_count": 7,
     "metadata": {},
     "output_type": "execute_result"
    }
   ],
   "source": [
    "data "
   ]
  },
  {
   "cell_type": "code",
   "execution_count": 8,
   "metadata": {},
   "outputs": [
    {
     "data": {
      "text/html": [
       "<style type=\"text/css\">\n",
       "</style>\n",
       "<table id=\"T_de8ca\">\n",
       "  <thead>\n",
       "    <tr>\n",
       "      <th class=\"blank level0\" >&nbsp;</th>\n",
       "      <th id=\"T_de8ca_level0_col0\" class=\"col_heading level0 col0\" >Xl</th>\n",
       "      <th id=\"T_de8ca_level0_col1\" class=\"col_heading level0 col1\" >Xr</th>\n",
       "      <th id=\"T_de8ca_level0_col2\" class=\"col_heading level0 col2\" >Xm</th>\n",
       "      <th id=\"T_de8ca_level0_col3\" class=\"col_heading level0 col3\" >Error %</th>\n",
       "      <th id=\"T_de8ca_level0_col4\" class=\"col_heading level0 col4\" >f(Xm)</th>\n",
       "    </tr>\n",
       "  </thead>\n",
       "  <tbody>\n",
       "    <tr>\n",
       "      <th id=\"T_de8ca_level0_row0\" class=\"row_heading level0 row0\" >0</th>\n",
       "      <td id=\"T_de8ca_row0_col0\" class=\"data row0 col0\" >0.000000</td>\n",
       "      <td id=\"T_de8ca_row0_col1\" class=\"data row0 col1\" >0.110000</td>\n",
       "      <td id=\"T_de8ca_row0_col2\" class=\"data row0 col2\" >0.055000</td>\n",
       "      <td id=\"T_de8ca_row0_col3\" class=\"data row0 col3\" >None</td>\n",
       "      <td id=\"T_de8ca_row0_col4\" class=\"data row0 col4\" >6.6550e-05</td>\n",
       "    </tr>\n",
       "    <tr>\n",
       "      <th id=\"T_de8ca_level0_row1\" class=\"row_heading level0 row1\" >1</th>\n",
       "      <td id=\"T_de8ca_row1_col0\" class=\"data row1 col0\" >0.055000</td>\n",
       "      <td id=\"T_de8ca_row1_col1\" class=\"data row1 col1\" >0.110000</td>\n",
       "      <td id=\"T_de8ca_row1_col2\" class=\"data row1 col2\" >0.082500</td>\n",
       "      <td id=\"T_de8ca_row1_col3\" class=\"data row1 col3\" >33.333333</td>\n",
       "      <td id=\"T_de8ca_row1_col4\" class=\"data row1 col4\" >-1.6222e-04</td>\n",
       "    </tr>\n",
       "    <tr>\n",
       "      <th id=\"T_de8ca_level0_row2\" class=\"row_heading level0 row2\" >2</th>\n",
       "      <td id=\"T_de8ca_row2_col0\" class=\"data row2 col0\" >0.055000</td>\n",
       "      <td id=\"T_de8ca_row2_col1\" class=\"data row2 col1\" >0.082500</td>\n",
       "      <td id=\"T_de8ca_row2_col2\" class=\"data row2 col2\" >0.068750</td>\n",
       "      <td id=\"T_de8ca_row2_col3\" class=\"data row2 col3\" >20.000000</td>\n",
       "      <td id=\"T_de8ca_row2_col4\" class=\"data row2 col4\" >-5.5632e-05</td>\n",
       "    </tr>\n",
       "    <tr>\n",
       "      <th id=\"T_de8ca_level0_row3\" class=\"row_heading level0 row3\" >3</th>\n",
       "      <td id=\"T_de8ca_row3_col0\" class=\"data row3 col0\" >0.055000</td>\n",
       "      <td id=\"T_de8ca_row3_col1\" class=\"data row3 col1\" >0.068750</td>\n",
       "      <td id=\"T_de8ca_row3_col2\" class=\"data row3 col2\" >0.061875</td>\n",
       "      <td id=\"T_de8ca_row3_col3\" class=\"data row3 col3\" >11.111111</td>\n",
       "      <td id=\"T_de8ca_row3_col4\" class=\"data row3 col4\" >4.4843e-06</td>\n",
       "    </tr>\n",
       "    <tr>\n",
       "      <th id=\"T_de8ca_level0_row4\" class=\"row_heading level0 row4\" >4</th>\n",
       "      <td id=\"T_de8ca_row4_col0\" class=\"data row4 col0\" >0.061875</td>\n",
       "      <td id=\"T_de8ca_row4_col1\" class=\"data row4 col1\" >0.068750</td>\n",
       "      <td id=\"T_de8ca_row4_col2\" class=\"data row4 col2\" >0.065312</td>\n",
       "      <td id=\"T_de8ca_row4_col3\" class=\"data row4 col3\" >5.263158</td>\n",
       "      <td id=\"T_de8ca_row4_col4\" class=\"data row4 col4\" >-2.5939e-05</td>\n",
       "    </tr>\n",
       "    <tr>\n",
       "      <th id=\"T_de8ca_level0_row5\" class=\"row_heading level0 row5\" >5</th>\n",
       "      <td id=\"T_de8ca_row5_col0\" class=\"data row5 col0\" >0.061875</td>\n",
       "      <td id=\"T_de8ca_row5_col1\" class=\"data row5 col1\" >0.065312</td>\n",
       "      <td id=\"T_de8ca_row5_col2\" class=\"data row5 col2\" >0.063594</td>\n",
       "      <td id=\"T_de8ca_row5_col3\" class=\"data row5 col3\" >2.702703</td>\n",
       "      <td id=\"T_de8ca_row5_col4\" class=\"data row5 col4\" >-1.0804e-05</td>\n",
       "    </tr>\n",
       "    <tr>\n",
       "      <th id=\"T_de8ca_level0_row6\" class=\"row_heading level0 row6\" >6</th>\n",
       "      <td id=\"T_de8ca_row6_col0\" class=\"data row6 col0\" >0.061875</td>\n",
       "      <td id=\"T_de8ca_row6_col1\" class=\"data row6 col1\" >0.063594</td>\n",
       "      <td id=\"T_de8ca_row6_col2\" class=\"data row6 col2\" >0.062734</td>\n",
       "      <td id=\"T_de8ca_row6_col3\" class=\"data row6 col3\" >1.369863</td>\n",
       "      <td id=\"T_de8ca_row6_col4\" class=\"data row6 col4\" >-3.1768e-06</td>\n",
       "    </tr>\n",
       "    <tr>\n",
       "      <th id=\"T_de8ca_level0_row7\" class=\"row_heading level0 row7\" >7</th>\n",
       "      <td id=\"T_de8ca_row7_col0\" class=\"data row7 col0\" >0.061875</td>\n",
       "      <td id=\"T_de8ca_row7_col1\" class=\"data row7 col1\" >0.062734</td>\n",
       "      <td id=\"T_de8ca_row7_col2\" class=\"data row7 col2\" >0.062305</td>\n",
       "      <td id=\"T_de8ca_row7_col3\" class=\"data row7 col3\" >0.689655</td>\n",
       "      <td id=\"T_de8ca_row7_col4\" class=\"data row7 col4\" >6.4973e-07</td>\n",
       "    </tr>\n",
       "    <tr>\n",
       "      <th id=\"T_de8ca_level0_row8\" class=\"row_heading level0 row8\" >8</th>\n",
       "      <td id=\"T_de8ca_row8_col0\" class=\"data row8 col0\" >0.062305</td>\n",
       "      <td id=\"T_de8ca_row8_col1\" class=\"data row8 col1\" >0.062734</td>\n",
       "      <td id=\"T_de8ca_row8_col2\" class=\"data row8 col2\" >0.062520</td>\n",
       "      <td id=\"T_de8ca_row8_col3\" class=\"data row8 col3\" >0.343643</td>\n",
       "      <td id=\"T_de8ca_row8_col4\" class=\"data row8 col4\" >-1.2646e-06</td>\n",
       "    </tr>\n",
       "    <tr>\n",
       "      <th id=\"T_de8ca_level0_row9\" class=\"row_heading level0 row9\" >9</th>\n",
       "      <td id=\"T_de8ca_row9_col0\" class=\"data row9 col0\" >0.062305</td>\n",
       "      <td id=\"T_de8ca_row9_col1\" class=\"data row9 col1\" >0.062520</td>\n",
       "      <td id=\"T_de8ca_row9_col2\" class=\"data row9 col2\" >0.062412</td>\n",
       "      <td id=\"T_de8ca_row9_col3\" class=\"data row9 col3\" >0.172117</td>\n",
       "      <td id=\"T_de8ca_row9_col4\" class=\"data row9 col4\" >-3.0768e-07</td>\n",
       "    </tr>\n",
       "  </tbody>\n",
       "</table>\n"
      ],
      "text/plain": [
       "<pandas.io.formats.style.Styler at 0x11fdec7a0>"
      ]
     },
     "execution_count": 8,
     "metadata": {},
     "output_type": "execute_result"
    }
   ],
   "source": [
    "data.style.format({'f(Xm)': \"{:.4e}\" })"
   ]
  },
  {
   "cell_type": "code",
   "execution_count": 9,
   "metadata": {},
   "outputs": [
    {
     "ename": "ValueError",
     "evalue": "The two initital guesses have the same functional sign.",
     "output_type": "error",
     "traceback": [
      "\u001b[0;31m---------------------------------------------------------------------------\u001b[0m",
      "\u001b[0;31mValueError\u001b[0m                                Traceback (most recent call last)",
      "Cell \u001b[0;32mIn[9], line 1\u001b[0m\n\u001b[0;32m----> 1\u001b[0m result , data \u001b[38;5;241m=\u001b[39m \u001b[43mbisection\u001b[49m\u001b[43m(\u001b[49m\u001b[43m \u001b[49m\u001b[43mf\u001b[49m\u001b[43m \u001b[49m\u001b[43m,\u001b[49m\u001b[43m \u001b[49m\u001b[38;5;241;43m0.1\u001b[39;49m\u001b[43m \u001b[49m\u001b[43m,\u001b[49m\u001b[43m \u001b[49m\u001b[43mxr\u001b[49m\u001b[43m \u001b[49m\u001b[43m)\u001b[49m\n",
      "Cell \u001b[0;32mIn[2], line 16\u001b[0m, in \u001b[0;36mbisection\u001b[0;34m(f, ini_xl, ini_xr, max_itr, tolerance)\u001b[0m\n\u001b[1;32m     14\u001b[0m \u001b[38;5;66;03m# Ensures that the function changes sign within the range \u001b[39;00m\n\u001b[1;32m     15\u001b[0m \u001b[38;5;28;01mif\u001b[39;00m( f(ini_xr)\u001b[38;5;241m*\u001b[39mf(ini_xl) \u001b[38;5;241m>\u001b[39m\u001b[38;5;241m=\u001b[39m \u001b[38;5;241m0\u001b[39m ): \n\u001b[0;32m---> 16\u001b[0m     \u001b[38;5;28;01mraise\u001b[39;00m \u001b[38;5;167;01mValueError\u001b[39;00m(\u001b[38;5;124m'\u001b[39m\u001b[38;5;124mThe two initital guesses have the same functional sign.\u001b[39m\u001b[38;5;124m'\u001b[39m )\n\u001b[1;32m     18\u001b[0m \u001b[38;5;28;01mif\u001b[39;00m( ini_xl \u001b[38;5;241m>\u001b[39m\u001b[38;5;241m=\u001b[39m ini_xr ): \n\u001b[1;32m     19\u001b[0m     \u001b[38;5;28;01mraise\u001b[39;00m \u001b[38;5;167;01mValueError\u001b[39;00m(\u001b[38;5;124m'\u001b[39m\u001b[38;5;124mThe left guess should be strictly smaller than the right one.\u001b[39m\u001b[38;5;124m'\u001b[39m)\n",
      "\u001b[0;31mValueError\u001b[0m: The two initital guesses have the same functional sign."
     ]
    }
   ],
   "source": [
    "result , data = bisection( f , 0.1 , xr )"
   ]
  },
  {
   "cell_type": "code",
   "execution_count": null,
   "metadata": {},
   "outputs": [
    {
     "ename": "ValueError",
     "evalue": "The left guess should be strictly smaller than the right one.",
     "output_type": "error",
     "traceback": [
      "\u001b[0;31m---------------------------------------------------------------------------\u001b[0m",
      "\u001b[0;31mValueError\u001b[0m                                Traceback (most recent call last)",
      "Cell \u001b[0;32mIn[10], line 1\u001b[0m\n\u001b[0;32m----> 1\u001b[0m result , data \u001b[38;5;241m=\u001b[39m \u001b[43mbisection\u001b[49m\u001b[43m(\u001b[49m\u001b[43m \u001b[49m\u001b[43mf\u001b[49m\u001b[43m \u001b[49m\u001b[43m,\u001b[49m\u001b[43m \u001b[49m\u001b[43mxr\u001b[49m\u001b[43m \u001b[49m\u001b[43m,\u001b[49m\u001b[43m \u001b[49m\u001b[43mxl\u001b[49m\u001b[43m  \u001b[49m\u001b[43m)\u001b[49m\n",
      "Cell \u001b[0;32mIn[2], line 19\u001b[0m, in \u001b[0;36mbisection\u001b[0;34m(f, ini_xl, ini_xr, max_itr, tolerance)\u001b[0m\n\u001b[1;32m     16\u001b[0m     \u001b[38;5;28;01mraise\u001b[39;00m \u001b[38;5;167;01mValueError\u001b[39;00m(\u001b[38;5;124m'\u001b[39m\u001b[38;5;124mThe two initital guesses have the same functional sign.\u001b[39m\u001b[38;5;124m'\u001b[39m )\n\u001b[1;32m     18\u001b[0m \u001b[38;5;28;01mif\u001b[39;00m( ini_xl \u001b[38;5;241m>\u001b[39m\u001b[38;5;241m=\u001b[39m ini_xr ): \n\u001b[0;32m---> 19\u001b[0m     \u001b[38;5;28;01mraise\u001b[39;00m \u001b[38;5;167;01mValueError\u001b[39;00m(\u001b[38;5;124m'\u001b[39m\u001b[38;5;124mThe left guess should be strictly smaller than the right one.\u001b[39m\u001b[38;5;124m'\u001b[39m)\n\u001b[1;32m     21\u001b[0m xl , xr , xm, err \u001b[38;5;241m=\u001b[39m [ini_xl] , [ini_xr] , [(ini_xr\u001b[38;5;241m+\u001b[39mini_xl)\u001b[38;5;241m/\u001b[39m\u001b[38;5;241m2\u001b[39m] , [\u001b[38;5;28;01mNone\u001b[39;00m]\n\u001b[1;32m     22\u001b[0m fxm \u001b[38;5;241m=\u001b[39m [f( xm[\u001b[38;5;241m-\u001b[39m\u001b[38;5;241m1\u001b[39m]) ]\n",
      "\u001b[0;31mValueError\u001b[0m: The left guess should be strictly smaller than the right one."
     ]
    }
   ],
   "source": [
    "result , data = bisection( f , xr , xl  )"
   ]
  }
 ],
 "metadata": {
  "kernelspec": {
   "display_name": "Python 3",
   "language": "python",
   "name": "python3"
  },
  "language_info": {
   "codemirror_mode": {
    "name": "ipython",
    "version": 3
   },
   "file_extension": ".py",
   "mimetype": "text/x-python",
   "name": "python",
   "nbconvert_exporter": "python",
   "pygments_lexer": "ipython3",
   "version": "3.12.3"
  }
 },
 "nbformat": 4,
 "nbformat_minor": 2
}
