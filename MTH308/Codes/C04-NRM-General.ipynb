{
 "cells": [
  {
   "cell_type": "code",
   "execution_count": 1,
   "metadata": {},
   "outputs": [],
   "source": [
    "import numpy as np \n",
    "\n",
    "def GE( U , b ) : \n",
    "    '''\n",
    "    Param U: nxn matrix of the coefficients. ( Upper Trangular ) \n",
    "    Param b: nx1 matrix of the constants in the equation. \n",
    "    '''\n",
    "    if( type( U ) == list ):\n",
    "        U = np.array( U , dtype = float  ) \n",
    "    if( type( b ) == list ) :\n",
    "        b = np.array( b , dtype = float )\n",
    "\n",
    "    n = U.shape[0] \n",
    "    \n",
    "    if( n != U.shape[1] ) : \n",
    "        raise ValueError('U must be a square matrix') \n",
    "    if( n != b.shape[0] ) : \n",
    "        raise ValueError('Dimentions of U and b do not match' ) \n",
    "    \n",
    "    b = b.reshape( ( n, -1 ) ) \n",
    "    U = np.concatenate( ( U , b ) , axis = 1  )\n",
    "\n",
    "    for i in range( n - 1 ) : \n",
    "        for j in range( i + 1 , n ) : \n",
    "            U[j,:] -= ( U[j,i]/U[i,i] )*U[i,:] \n",
    "\n",
    "    return U[: , :n ] , U[: , -1 ] \n"
   ]
  },
  {
   "cell_type": "code",
   "execution_count": 2,
   "metadata": {},
   "outputs": [],
   "source": [
    "# back substitution \n",
    "\n",
    "def BackSt( U , b ): \n",
    "    '''\n",
    "    Param U: nxn matrix of the coefficients. ( Upper Trangular ) \n",
    "    Param b: nx1 matrix of the constants in the equation. \n",
    "    '''\n",
    "    if( type( U ) == list ) :\n",
    "        U = np.array( U , dtype = float  ) \n",
    "    if( type( b ) == list ) :\n",
    "        b = np.array( b , dtype = float )\n",
    "\n",
    "    n = U.shape[0] \n",
    "    \n",
    "    if( n != U.shape[1] ) : \n",
    "        raise ValueError('U must be a square matrix') \n",
    "    if( n != b.shape[0] ) : \n",
    "        raise ValueError('Dimentions of U and b do not match' ) \n",
    "\n",
    "    x = np.zeros( n )\n",
    "    \n",
    "    x[n-1] = b[n-1]/U[ n -1 , n -1 ] \n",
    "\n",
    "    for i in range( n -2 , -1 , -1 ) : \n",
    "        temp = .0 \n",
    "        for j in range( i + 1 , n ) : \n",
    "            temp += x[j]*U[i,j]\n",
    "        x[i] = ( b[i] - temp )/U[i,i] \n",
    "    \n",
    "    return x"
   ]
  },
  {
   "cell_type": "code",
   "execution_count": 3,
   "metadata": {},
   "outputs": [],
   "source": [
    "f1 = lambda x , y : x*y + x**2 - y**3 -1  \n",
    "f2 = lambda x , y : x + 2*y - x*(y**2) - 2 \n",
    "\n",
    "f1x = lambda x,y: y + 2*x \n",
    "f1y = lambda x,y: x -3*(y**2) \n",
    "f2x = lambda x,y: 1 - y**2 \n",
    "f2y = lambda x,y: 2 - 2*x*y\n",
    "\n",
    "def get_jacobian(x1,x2):\n",
    "    return np.array([\n",
    "        [f1x(x1,x2),f1y(x1,x2)],\n",
    "        [f2x(x1,x2),f2y(x1,x2)]\n",
    "    ])  \n",
    "\n",
    "def f(x1,x2): \n",
    "    return np.array(\n",
    "        [\n",
    "            [f1(x1,x2)], \n",
    "            [f2(x1,x2)]\n",
    "        ]\n",
    "    )\n",
    "    \n",
    "def to_vector(x1,x2): \n",
    "    return np.array([\n",
    "        [x1],\n",
    "        [x2]\n",
    "    ])\n",
    "    \n",
    "def get_euclidean(x1,x2): \n",
    "    return np.sqrt( x1**2 + x2**2 )"
   ]
  },
  {
   "cell_type": "code",
   "execution_count": 12,
   "metadata": {},
   "outputs": [],
   "source": [
    "def NRM(x1i,x2i,max_itr=100,tor=1e-4): \n",
    "    err , x1,x2 = [None] , [x1i] , [x2i]\n",
    "    fval = [f(x1i,x2i)]\n",
    "    itr = 1\n",
    "    while (err[-1] == None or err[-1] > tor ) and itr < max_itr : \n",
    "        U , b = GE( get_jacobian(x1[-1],x2[-1]) , fval[-1] )\n",
    "        dx = BackSt(U,b)\n",
    "        dx1 , dx2 = dx \n",
    "        x1.append( x1[-1] - dx1 ) \n",
    "        x2.append(  x2[-1] - dx2 )\n",
    "        err.append( get_euclidean(dx1,dx2)/(get_euclidean(x1[-1],x2[-1])+1e-7) )\n",
    "        fval.append(f(x1[-1],x2[-1]))\n",
    "        itr += 1 \n",
    "    return x1, x2  , fval , err , itr "
   ]
  },
  {
   "cell_type": "code",
   "execution_count": 13,
   "metadata": {},
   "outputs": [
    {
     "data": {
      "text/plain": [
       "(1.000050948403376,\n",
       " 1.000076422605475,\n",
       " array([[-1.10331633e-08],\n",
       "        [-1.36279314e-08]]),\n",
       " 6.493974903851329e-05,\n",
       " 14)"
      ]
     },
     "execution_count": 13,
     "metadata": {},
     "output_type": "execute_result"
    }
   ],
   "source": [
    "x1,x2 , fval , err , itr = NRM(1.,2.)\n",
    "x1[-1] , x2[-1] ,  fval[-1] , err[-1] , itr "
   ]
  }
 ],
 "metadata": {
  "kernelspec": {
   "display_name": "Python 3",
   "language": "python",
   "name": "python3"
  },
  "language_info": {
   "codemirror_mode": {
    "name": "ipython",
    "version": 3
   },
   "file_extension": ".py",
   "mimetype": "text/x-python",
   "name": "python",
   "nbconvert_exporter": "python",
   "pygments_lexer": "ipython3",
   "version": "3.12.3"
  }
 },
 "nbformat": 4,
 "nbformat_minor": 2
}
