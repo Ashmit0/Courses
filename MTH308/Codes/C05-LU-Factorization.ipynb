{
 "cells": [
  {
   "cell_type": "markdown",
   "metadata": {},
   "source": [
    "## LU - Factorization "
   ]
  },
  {
   "cell_type": "code",
   "execution_count": 1,
   "metadata": {},
   "outputs": [],
   "source": [
    "import numpy as np "
   ]
  },
  {
   "cell_type": "code",
   "execution_count": 2,
   "metadata": {},
   "outputs": [],
   "source": [
    "def LUfactor(A): \n",
    "    n = A.shape[0]\n",
    "\n",
    "    if A.shape[1] != n : \n",
    "        raise ValueError('A must be a Square Matrix')\n",
    "    \n",
    "    L = np.eye( n )\n",
    "    U = np.zeros((n,n))\n",
    "    \n",
    "    for k in range(n-1) : \n",
    "        \n",
    "        # kth row of U : \n",
    "        for j in range(k,n): \n",
    "            # print( A[k,j] , np.sum(L[k , :k]*U[:k,j]) )\n",
    "            U[k,j] = A[k,j] - np.sum(L[k , :k]*U[:k,j])\n",
    "        \n",
    "        # print(f'----{k}th iteration ------ \\n {U} \\n {L}')\n",
    "        \n",
    "        # print( U , '\\n' , L )\n",
    "        if( k < n-1 and U[k,k] == 0 ): \n",
    "            print('Error : Zero Encountered in Diagonal Element of U ')\n",
    "            return L , U \n",
    "        \n",
    "        # kth column of L : \n",
    "        for j in range(k+1,n): \n",
    "            L[j,k] = ( A[j,k] - np.sum(L[j,:k]*U[:k,k]) )/U[k,k]\n",
    "        \n",
    "    return L , U  "
   ]
  },
  {
   "cell_type": "code",
   "execution_count": 3,
   "metadata": {},
   "outputs": [
    {
     "data": {
      "text/plain": [
       "array([[2., 3., 1.],\n",
       "       [4., 5., 2.],\n",
       "       [6., 7., 3.]])"
      ]
     },
     "execution_count": 3,
     "metadata": {},
     "output_type": "execute_result"
    }
   ],
   "source": [
    "A = np.array([\n",
    "    [2,3,1],\n",
    "    [4,5,2], \n",
    "    [6,7,3]\n",
    "])\n",
    "\n",
    "L , U  = LUfactor( A )\n",
    "np.matmul( L , U )"
   ]
  },
  {
   "cell_type": "code",
   "execution_count": 4,
   "metadata": {},
   "outputs": [
    {
     "data": {
      "text/plain": [
       "4.440892098500646e-16"
      ]
     },
     "execution_count": 4,
     "metadata": {},
     "output_type": "execute_result"
    }
   ],
   "source": [
    "np.linalg.det( A )"
   ]
  },
  {
   "cell_type": "code",
   "execution_count": 5,
   "metadata": {},
   "outputs": [
    {
     "name": "stdout",
     "output_type": "stream",
     "text": [
      "3.000000000000002\n",
      "Error : Zero Encountered in Diagonal Element of U \n"
     ]
    },
    {
     "data": {
      "text/plain": [
       "array([[ 1.,  2.,  1.,  3.],\n",
       "       [ 2.,  4.,  1.,  5.],\n",
       "       [ 3.,  6.,  3.,  9.],\n",
       "       [ 4.,  8.,  4., 12.]])"
      ]
     },
     "execution_count": 5,
     "metadata": {},
     "output_type": "execute_result"
    }
   ],
   "source": [
    "A = np.array([\n",
    "    [1,2,1,3],\n",
    "    [2,4,1,5],\n",
    "    [3,2,1,4],\n",
    "    [4,1,1,3]\n",
    "])\n",
    "\n",
    "print( np.linalg.det(A) )\n",
    "\n",
    "L , U  = LUfactor( A )\n",
    "np.matmul( L , U )"
   ]
  },
  {
   "cell_type": "code",
   "execution_count": 6,
   "metadata": {},
   "outputs": [
    {
     "name": "stdout",
     "output_type": "stream",
     "text": [
      "315.0\n",
      "[[1. 0. 0.]\n",
      " [0. 1. 0.]\n",
      " [0. 0. 1.]] \n",
      " [[5. 0. 0.]\n",
      " [0. 7. 0.]\n",
      " [0. 0. 0.]]\n"
     ]
    },
    {
     "data": {
      "text/plain": [
       "array([[5., 0., 0.],\n",
       "       [0., 7., 0.],\n",
       "       [0., 0., 0.]])"
      ]
     },
     "execution_count": 6,
     "metadata": {},
     "output_type": "execute_result"
    }
   ],
   "source": [
    "A = np.array([\n",
    "    [5,0,0],\n",
    "    [0,7,0],\n",
    "    [0,0,9]\n",
    "])\n",
    "\n",
    "print( np.linalg.det(A) )\n",
    "\n",
    "L , U  = LUfactor( A )\n",
    "print( L , '\\n' , U )\n",
    "np.matmul( L , U )"
   ]
  },
  {
   "cell_type": "code",
   "execution_count": 7,
   "metadata": {},
   "outputs": [
    {
     "name": "stdout",
     "output_type": "stream",
     "text": [
      "11.999999999999995\n",
      "[[1. 0. 0.]\n",
      " [2. 1. 0.]\n",
      " [3. 0. 1.]] \n",
      " [[2. 0. 1.]\n",
      " [0. 3. 0.]\n",
      " [0. 0. 0.]]\n"
     ]
    },
    {
     "data": {
      "text/plain": [
       "array([[2., 0., 1.],\n",
       "       [4., 3., 2.],\n",
       "       [6., 0., 3.]])"
      ]
     },
     "execution_count": 7,
     "metadata": {},
     "output_type": "execute_result"
    }
   ],
   "source": [
    "A = np.array([\n",
    "    [2,0,1],\n",
    "    [4,3,2],\n",
    "    [6,0,5]\n",
    "])\n",
    "\n",
    "print( np.linalg.det(A) )\n",
    "\n",
    "L , U  = LUfactor( A )\n",
    "print( L , '\\n' , U )\n",
    "np.matmul( L , U )"
   ]
  }
 ],
 "metadata": {
  "kernelspec": {
   "display_name": "Python 3",
   "language": "python",
   "name": "python3"
  },
  "language_info": {
   "codemirror_mode": {
    "name": "ipython",
    "version": 3
   },
   "file_extension": ".py",
   "mimetype": "text/x-python",
   "name": "python",
   "nbconvert_exporter": "python",
   "pygments_lexer": "ipython3",
   "version": "3.12.3"
  }
 },
 "nbformat": 4,
 "nbformat_minor": 2
}
