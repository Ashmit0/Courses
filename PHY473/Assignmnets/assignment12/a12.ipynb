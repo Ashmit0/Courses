{
 "cells": [
  {
   "cell_type": "code",
   "execution_count": 1,
   "metadata": {},
   "outputs": [],
   "source": [
    "import numpy as np \n",
    "import matplotlib.pyplot as plt "
   ]
  },
  {
   "cell_type": "markdown",
   "metadata": {},
   "source": [
    "### FTCS method "
   ]
  },
  {
   "cell_type": "code",
   "execution_count": 26,
   "metadata": {},
   "outputs": [],
   "source": [
    "def GS_laplase( v , tor = 1e-6 ):\n",
    "    iter = 0 \n",
    "    n = v.shape[0]\n",
    "    max_del = 10 \n",
    "    while max_del > tor :\n",
    "        max_del = 0  \n",
    "        for i in range( 1 , n - 1 ): \n",
    "            for j in range( 1 , n -1 ):\n",
    "                old = v[i,j]\n",
    "                v[i,j] = (0.25)*(v[i+1,j]+v[i-1,j]+v[i,j+1]+v[i,j-1])\n",
    "                del_ = abs( v[i,j] - old )\n",
    "                if max_del < del_: \n",
    "                    max_del = del_ \n",
    "        iter += 1\n",
    "    print( f'total number of iteration : {iter}') \n",
    "    return v "
   ]
  },
  {
   "cell_type": "code",
   "execution_count": 27,
   "metadata": {},
   "outputs": [
    {
     "name": "stdout",
     "output_type": "stream",
     "text": [
      "[[0. 0. 0. ... 0. 0. 0.]\n",
      " [0. 0. 0. ... 0. 0. 0.]\n",
      " [0. 0. 0. ... 0. 0. 0.]\n",
      " ...\n",
      " [0. 0. 0. ... 0. 0. 0.]\n",
      " [0. 0. 0. ... 0. 0. 0.]\n",
      " [1. 1. 1. ... 1. 1. 1.]] (101, 101)\n"
     ]
    }
   ],
   "source": [
    "# define initial v: \n",
    "v = np.zeros( (101 , 101 ))\n",
    "v[ -1 , : ] = np.ones(101)\n",
    "print( v , v.shape )"
   ]
  },
  {
   "cell_type": "code",
   "execution_count": 28,
   "metadata": {},
   "outputs": [
    {
     "name": "stdout",
     "output_type": "stream",
     "text": [
      "total number of iteration : 6095\n"
     ]
    }
   ],
   "source": [
    "v  = GS_laplase( v )"
   ]
  },
  {
   "cell_type": "code",
   "execution_count": 29,
   "metadata": {},
   "outputs": [],
   "source": [
    "x = np.linspace( 0 , 1 , 101 )\n",
    "y = np.linspace( 0 , 1 , 101 )\n",
    "X , Y = np.meshgrid( x , y )"
   ]
  },
  {
   "cell_type": "code",
   "execution_count": 30,
   "metadata": {},
   "outputs": [
    {
     "name": "stdout",
     "output_type": "stream",
     "text": [
      "1.0\n"
     ]
    },
    {
     "data": {
      "image/png": "[encoded data removed]",
      "text/plain": [
       "<Figure size 640x480 with 2 Axes>"
      ]
     },
     "metadata": {},
     "output_type": "display_data"
    }
   ],
   "source": [
    "plt.contourf( X , Y , v )\n",
    "plt.colorbar() ; \n",
    "print( np.max( v ))"
   ]
  },
  {
   "cell_type": "markdown",
   "metadata": {},
   "source": [
    "### using the FTCS method! "
   ]
  },
  {
   "cell_type": "code",
   "execution_count": null,
   "metadata": {},
   "outputs": [],
   "source": [
    "w0 = 2*np.pi/365 \n",
    "t0 = lambda t : 10 + 12*np.sin(w0*t)\n",
    "\n",
    "dx = 0.1 \n",
    "x0 = np.arange( 0 , 20 , dx  )\n",
    "dt = 1/30 \n",
    "\n",
    "\n",
    "def ftcs( dt , years , x0 , xn , dx , T0  , D ): \n",
    "    t = np.arange( 0 , 365 , dt )\n",
    "    T = np.zeros( (t.size , T0.size ))\n",
    "    r = D*dt/(dx**2)\n",
    "    if r >= 1/2 : \n",
    "        raise ValueError('r is grater than 1/2')\n",
    "    for _ in range( 9 ):\n",
    "        for time in range( 1 , len(t) ): \n",
    "            T[time , 0] = t0( time )\n",
    "            T[time , -1 ] = 11 \n",
    "            T[time , 1:-1] =  T[time -1 , 1:-1] + r*(T[time -1 , 2:] + T[time -1 , 0:-2] -2*T[time - 1 , 1:-1])\n",
    "        T[time ]"
   ]
  },
  {
   "cell_type": "code",
   "execution_count": 33,
   "metadata": {},
   "outputs": [
    {
     "data": {
      "text/plain": [
       "array([1, 2, 3, 4, 5])"
      ]
     },
     "execution_count": 33,
     "metadata": {},
     "output_type": "execute_result"
    }
   ],
   "source": [
    "x = np.array([1 , 2, 3, 4, 5, 6, 7])\n",
    "x[1:-1]\n",
    "x[:-2]"
   ]
  }
 ],
 "metadata": {
  "kernelspec": {
   "display_name": "Python 3",
   "language": "python",
   "name": "python3"
  },
  "language_info": {
   "codemirror_mode": {
    "name": "ipython",
    "version": 3
   },
   "file_extension": ".py",
   "mimetype": "text/x-python",
   "name": "python",
   "nbconvert_exporter": "python",
   "pygments_lexer": "ipython3",
   "version": "3.11.4"
  }
 },
 "nbformat": 4,
 "nbformat_minor": 2
}
