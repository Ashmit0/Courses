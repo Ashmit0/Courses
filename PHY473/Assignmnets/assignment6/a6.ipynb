{
 "cells": [
  {
   "cell_type": "code",
   "execution_count": 1,
   "metadata": {},
   "outputs": [],
   "source": [
    "import numpy as np \n",
    "import matplotlib.pyplot as plt"
   ]
  },
  {
   "cell_type": "code",
   "execution_count": 2,
   "metadata": {},
   "outputs": [
    {
     "name": "stdout",
     "output_type": "stream",
     "text": [
      "for n =  1  result =  2.0 error =  -54.54545 %\n",
      "for n =  10  result =  4.078372199359853 error =  -7.30972 %\n",
      "for n =  100  result =  4.357077430084268 error =  -0.97551 %\n",
      "for n =  1000  result =  4.395610677342941 error =  -0.09976 %\n",
      "for n =  10000  result =  4.3995601066773355 error =  -0.01 %\n",
      "for n =  100000  result =  4.399956001066678 error =  -0.001 %\n",
      "for n =  1000000  result =  4.399995600010665 error =  -0.0001 %\n"
     ]
    }
   ],
   "source": [
    "f = lambda x : x**4 - 2*x + 1 \n",
    "\n",
    "def trap_int( f , a  , b , n ): \n",
    "    h = ( b - a )/n\n",
    "    x = np.linspace( a , b,  n )\n",
    "    y = f( x )\n",
    "    result = (.5)*( y[0] + y[-1])*h \n",
    "    result += np.sum( y[1:-1] )*h \n",
    "    return result \n",
    "\n",
    "for n in range( 7 ): \n",
    "    result = trap_int( f , 0 , 2 , 10**n ) \n",
    "    print( 'for n = ' , 10**n , ' result = ' ,\\\n",
    "        result , 'error = ' , round((result/4.4 - 1)*100 , 5 ) ,\\\n",
    "            '%' )"
   ]
  },
  {
   "cell_type": "markdown",
   "metadata": {},
   "source": [
    "# Assignment 6\n",
    "\n",
    "### Question 1 \n"
   ]
  },
  {
   "cell_type": "code",
   "execution_count": 3,
   "metadata": {},
   "outputs": [],
   "source": [
    "def trapint( f , a,   b , res = 10000 ):\n",
    "    x = np.linspace( a , b , res )\n",
    "    y = f( x )\n",
    "    steps = ( b - a )/res \n",
    "    result = ( y[0] + y[-1])/2 \n",
    "    result += np.sum( y[1:-1] )\n",
    "    return result*steps \n",
    "# f -> function to integrate \n",
    "# a -> lower limit \n",
    "# b -> upper limit \n",
    "# res -> number of points between the range a , b "
   ]
  },
  {
   "cell_type": "code",
   "execution_count": 4,
   "metadata": {},
   "outputs": [
    {
     "data": {
      "text/plain": [
       "4.3995601066773355"
      ]
     },
     "execution_count": 4,
     "metadata": {},
     "output_type": "execute_result"
    }
   ],
   "source": [
    "trapint( lambda x : x**4 - 2*x + 1, 0 , 2 )"
   ]
  },
  {
   "cell_type": "code",
   "execution_count": 5,
   "metadata": {},
   "outputs": [],
   "source": [
    "def blackbody( z , c ): \n",
    "    temp = np.divide( c*z , 1 - z )\n",
    "    result = ( c**4 )*( np.divide( np.power(z , 3 )*np.exp( - temp ) , np.power( 1 - z , 5 )*( 1 - np.exp( - temp ) )))\n",
    "    return result "
   ]
  },
  {
   "cell_type": "code",
   "execution_count": 6,
   "metadata": {},
   "outputs": [],
   "source": [
    "def trapint( f , a,   b , c , res = 10000 ):\n",
    "    x = np.linspace( a , b , res )\n",
    "    y = f( x , c  )\n",
    "    steps = ( b - a )/res \n",
    "    result = ( y[0] + y[-1])/2 \n",
    "    result += np.sum( y[1:-1] )\n",
    "    return result*steps "
   ]
  },
  {
   "cell_type": "code",
   "execution_count": 7,
   "metadata": {},
   "outputs": [
    {
     "name": "stdout",
     "output_type": "stream",
     "text": [
      "with c = 1; acctual result = 6.493939402266828; int result = 6.493938752872889; Error = -9.999999972531981e-06%\n",
      "with c = 2; acctual result = 6.493939402266828; int result = 6.493938752872886; Error = -1.0000000028043132e-05%\n",
      "with c = 3; acctual result = 6.493939402266828; int result = 6.493938752872897; Error = -9.999999850407448e-06%\n",
      "with c = 4; acctual result = 6.493939402266828; int result = 6.493938752872894; Error = -9.9999999059186e-06%\n",
      "with c = 5; acctual result = 6.493939402266828; int result = 6.493938752872892; Error = -9.99999993922529e-06%\n",
      "with c = 6; acctual result = 6.493939402266828; int result = 6.4939387528728965; Error = -9.999999861509679e-06%\n"
     ]
    }
   ],
   "source": [
    "for c in range(1 ,  7 ): \n",
    "    result = trapint( blackbody , 0  + 0.000001 , 1 - 0.00001 , c , res = 10000000 )\n",
    "    acctual = np.pi**4/15 \n",
    "    error = ( result/acctual -1 )*100 \n",
    "    print(f'with c = {c}; acctual result = {acctual}; int result = {result}; Error = {error}%' )"
   ]
  },
  {
   "cell_type": "markdown",
   "metadata": {},
   "source": [
    "### Question 2 \n",
    "$$ \\int\\limits_{0}^{x}e^{-t^2}dt $$"
   ]
  },
  {
   "cell_type": "code",
   "execution_count": 8,
   "metadata": {},
   "outputs": [],
   "source": [
    "f = lambda x : np.exp( - np.square( x ) )\n",
    "\n",
    "def SimpSon(f,a,b,steps=100000): \n",
    "    if steps%2 == 1: \n",
    "        raise ValueError( \"n should be even!\")\n",
    "    x = np.linspace( a, b , steps )\n",
    "    y = f( x )\n",
    "    result = y[0] + y[-1]\n",
    "    temp = y[1:-1]\n",
    "    result += 4*np.sum(y[::2]) + 2*np.sum(y[1::2])\n",
    "    return result*( ( b - a )/steps )/3 "
   ]
  },
  {
   "cell_type": "code",
   "execution_count": 9,
   "metadata": {},
   "outputs": [],
   "source": [
    "x = np.linspace( 0 , 3 , int(3/0.1) )\n",
    "y = np.zeros( x.size )\n",
    "for i in range( x.size ):\n",
    "    y[i] = SimpSon( f , 0 , x[i] )"
   ]
  },
  {
   "cell_type": "code",
   "execution_count": 10,
   "metadata": {},
   "outputs": [
    {
     "data": {
      "image/png": "[encoded data removed]",
      "text/plain": [
       "<Figure size 1300x400 with 1 Axes>"
      ]
     },
     "metadata": {},
     "output_type": "display_data"
    }
   ],
   "source": [
    "fig, ax = plt.subplots( figsize = ( 13 , 4 ))\n",
    "plt.plot( x , y )\n",
    "plt.grid()\n",
    "plt.yticks( np.linspace( 0 ,1 , 11))\n",
    "plt.ylabel(r'$\\int_0^x e^{-t^2}dt$')\n",
    "plt.xlabel(r'$x$')\n",
    "plt.xticks( np.linspace( 0 , 3 , 11 ))\n",
    "plt.show()"
   ]
  },
  {
   "cell_type": "code",
   "execution_count": null,
   "metadata": {},
   "outputs": [],
   "source": []
  }
 ],
 "metadata": {
  "kernelspec": {
   "display_name": "Python 3",
   "language": "python",
   "name": "python3"
  },
  "language_info": {
   "codemirror_mode": {
    "name": "ipython",
    "version": 3
   },
   "file_extension": ".py",
   "mimetype": "text/x-python",
   "name": "python",
   "nbconvert_exporter": "python",
   "pygments_lexer": "ipython3",
   "version": "3.11.4"
  }
 },
 "nbformat": 4,
 "nbformat_minor": 2
}
