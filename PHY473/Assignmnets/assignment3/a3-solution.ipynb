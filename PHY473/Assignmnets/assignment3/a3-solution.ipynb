{
 "cells": [
  {
   "cell_type": "code",
   "execution_count": 1,
   "metadata": {},
   "outputs": [],
   "source": [
    "import matplotlib.pyplot as plt \n",
    "import numpy as np \n",
    "import math "
   ]
  },
  {
   "cell_type": "markdown",
   "metadata": {},
   "source": [
    "# Question 1 "
   ]
  },
  {
   "cell_type": "code",
   "execution_count": 2,
   "metadata": {},
   "outputs": [
    {
     "name": "stdout",
     "output_type": "stream",
     "text": [
      "81.675\n",
      "81.675\n"
     ]
    }
   ],
   "source": [
    "def f1(n): \n",
    "    return round(  ((n**3)*((n+1)**2)*(n-1)**2)/(4*3*10000)  , 3) \n",
    "\n",
    "def f2(n): \n",
    "    a = np.zeros([n,n])\n",
    "    for i in range(0,n):\n",
    "        for j in range(0,n):\n",
    "            a[i,j] = i*j/100 ; \n",
    "    b = np.zeros([n,n])\n",
    "    for i in range(0,n):\n",
    "        for j in range(0,n):\n",
    "            b[i,j] = (i+1)*(j+1)/100 \n",
    "    c = np.dot( a, b ) \n",
    "    return round( np.sum( c )  , 3 )\n",
    "\n",
    "print( f1(10) )\n",
    "print( f2(10) )"
   ]
  },
  {
   "cell_type": "markdown",
   "metadata": {},
   "source": [
    "# Question 2 "
   ]
  },
  {
   "cell_type": "code",
   "execution_count": 3,
   "metadata": {},
   "outputs": [
    {
     "data": {
      "text/plain": [
       "[2, 3, 5, 7, 11, 13, 17, 19, 23, 29, 31, 37]"
      ]
     },
     "execution_count": 3,
     "metadata": {},
     "output_type": "execute_result"
    }
   ],
   "source": [
    "def primes( n ):\n",
    "    prime = []\n",
    "    is_prime = np.ones( n + 1  , dtype = bool ) \n",
    "    index = 1 \n",
    "    for num in range( 2 , int((n)**(1/2)) + 1  ): \n",
    "        if is_prime[num]: \n",
    "            for i in range(num*num , n + 1 , num ): \n",
    "                is_prime[i] = False \n",
    "    for i in range( 2, n + 1 ): \n",
    "        if is_prime[i] : \n",
    "            prime.append(i)\n",
    "    return prime \n",
    "            \n",
    "primes( 40 )"
   ]
  },
  {
   "cell_type": "markdown",
   "metadata": {},
   "source": [
    "# Question 3"
   ]
  },
  {
   "cell_type": "code",
   "execution_count": 4,
   "metadata": {},
   "outputs": [
    {
     "name": "stdout",
     "output_type": "stream",
     "text": [
      "hehe\n"
     ]
    }
   ],
   "source": [
    "print('hehe')"
   ]
  },
  {
   "cell_type": "markdown",
   "metadata": {},
   "source": [
    "# Question 4"
   ]
  },
  {
   "cell_type": "code",
   "execution_count": 5,
   "metadata": {},
   "outputs": [
    {
     "data": {
      "image/png": "[encoded data removed]",
      "text/plain": [
       "<Figure size 640x480 with 1 Axes>"
      ]
     },
     "metadata": {},
     "output_type": "display_data"
    }
   ],
   "source": [
    "f = lambda x : x**2 - 4*x + (math.e)**(-x)\n",
    "x = np.linspace( 0 ,.5 , 1000 ) \n",
    "y = f(x)\n",
    "z = np.zeros( np.size( x ))\n",
    "\n",
    "plt.plot( x ,y )\n",
    "plt.plot( x ,z )\n",
    "plt.show()"
   ]
  },
  {
   "cell_type": "code",
   "execution_count": 6,
   "metadata": {},
   "outputs": [
    {
     "name": "stdout",
     "output_type": "stream",
     "text": [
      "at x =  0.213348388671875  f(x) =  -1.3859262928406224e-06 which is very close to zero\n"
     ]
    }
   ],
   "source": [
    "def bisection( f , a , b , tol = 1e-4 , max_itr = 100 ): \n",
    "    if f(a)*f(b) > 0 : \n",
    "        raise ValueError(\"Function must have opposite sign at the two end points.\")\n",
    "    for itr in range( 1, max_itr): \n",
    "        c = ( a + b )/2\n",
    "        k = f(c) \n",
    "        if abs( k ) < tol : \n",
    "            return c \n",
    "        \n",
    "        if f(a)*k < 0: \n",
    "            b = c \n",
    "        else:\n",
    "            a = c \n",
    "    raise ValueError(\"Did not converge within the maximum itterations.\")\n",
    "\n",
    "x = bisection( f , 0 , .5 )\n",
    "print( 'at x = ' , x , ' f(x) = ' , f(x) , 'which is very close to zero')"
   ]
  },
  {
   "cell_type": "markdown",
   "metadata": {},
   "source": [
    "# Question 5"
   ]
  },
  {
   "cell_type": "code",
   "execution_count": 7,
   "metadata": {},
   "outputs": [
    {
     "name": "stdout",
     "output_type": "stream",
     "text": [
      "part a) 2\n",
      "part b) 3\n"
     ]
    }
   ],
   "source": [
    "def count_substr( mstring , sstring ): \n",
    "    count = 0 \n",
    "    l = len(sstring)\n",
    "    for i in range(0,len(mstring)):\n",
    "        if mstring[i:i+l] == sstring: \n",
    "            count = count + 1 \n",
    "    return count \n",
    "\n",
    "print('part a)' , count_substr( 'ACTGCTATCCATT' , 'AT') )\n",
    "print('part b)' , count_substr( 'ACGTTACGGAACG' , 'ACG') )"
   ]
  }
 ],
 "metadata": {
  "kernelspec": {
   "display_name": "Python 3",
   "language": "python",
   "name": "python3"
  },
  "language_info": {
   "codemirror_mode": {
    "name": "ipython",
    "version": 3
   },
   "file_extension": ".py",
   "mimetype": "text/x-python",
   "name": "python",
   "nbconvert_exporter": "python",
   "pygments_lexer": "ipython3",
   "version": "3.11.4"
  }
 },
 "nbformat": 4,
 "nbformat_minor": 2
}
