{
 "cells": [
  {
   "cell_type": "code",
   "execution_count": 1,
   "metadata": {},
   "outputs": [],
   "source": [
    "import math \n",
    "import cmath \n",
    "import numpy as np \n",
    "import matplotlib.pyplot as plt "
   ]
  },
  {
   "cell_type": "markdown",
   "metadata": {},
   "source": [
    "## Question 1 "
   ]
  },
  {
   "cell_type": "code",
   "execution_count": 2,
   "metadata": {},
   "outputs": [],
   "source": [
    "class quad: \n",
    "    def __init__(self , a , b ,c ):\n",
    "        if( a == 0 ): \n",
    "            raise ValueError(\"a should not be zero.\")\n",
    "        self.a = a \n",
    "        self.b = b \n",
    "        self.c = c \n",
    "    def value( self , x ):\n",
    "        return self.a*(x**2) + self.b*(x) + self.c\n",
    "    def table( self , l , r,  n ):\n",
    "        if( r < l ):\n",
    "            raise ValueError(\"l should be smaller than r.\")\n",
    "        x = np.linspace( l , r , n )\n",
    "        return x , self.value( x )\n",
    "    def roots( self ):\n",
    "        const = self.b**2 - 4*self.a*self.c  \n",
    "        if( const >=0 ):\n",
    "            const = math.sqrt( const )\n",
    "        else: \n",
    "            const = cmath.sqrt( const )\n",
    "        return ( -self.b + const )/(2*self.a) , ( -self.b - const )/(2*self.a)"
   ]
  },
  {
   "cell_type": "code",
   "execution_count": 3,
   "metadata": {},
   "outputs": [
    {
     "data": {
      "image/png": "[encoded data removed]",
      "text/plain": [
       "<Figure size 640x480 with 1 Axes>"
      ]
     },
     "metadata": {},
     "output_type": "display_data"
    },
    {
     "name": "stdout",
     "output_type": "stream",
     "text": [
      "roots  (3.0, -5.0)\n"
     ]
    }
   ],
   "source": [
    "q1 = quad( 1 , 2 , -15 )\n",
    "x , y = q1.table( -10 , 10 , 1000 )\n",
    "plt.plot( x , y )\n",
    "plt.plot( x, np.zeros(x.size))\n",
    "plt.show()\n",
    "print( 'roots ' , q1.roots())"
   ]
  },
  {
   "cell_type": "code",
   "execution_count": 4,
   "metadata": {},
   "outputs": [
    {
     "name": "stdout",
     "output_type": "stream",
     "text": [
      "x = [-1.         -0.77777778 -0.55555556 -0.33333333 -0.11111111  0.11111111\n",
      "  0.33333333  0.55555556  0.77777778  1.        ] \n",
      " and \n",
      " y = [17.         14.92592593 13.14814815 11.66666667 10.48148148  9.59259259\n",
      "  9.          8.7037037   8.7037037   9.        ]\n",
      "roots  ((0.6666666666666666+1.6996731711975948j), (0.6666666666666666-1.6996731711975948j))\n"
     ]
    }
   ],
   "source": [
    "q2 = quad( 3, -4 , 10 )\n",
    "x , y = q2.table( -1 , 1 , 10 )\n",
    "print( f'x = {x} \\n and \\n y = {y}')\n",
    "print( 'roots ' , q2.roots())"
   ]
  },
  {
   "cell_type": "markdown",
   "metadata": {},
   "source": [
    "## Question 3 "
   ]
  },
  {
   "cell_type": "code",
   "execution_count": 5,
   "metadata": {},
   "outputs": [],
   "source": [
    "class poly:\n",
    "    def __init__(self, coeff ):\n",
    "        if not isinstance(coeff, np.ndarray):\n",
    "            raise ValueError(\"coeff must be a NumPy array\")\n",
    "        if not issubclass(coeff.dtype.type, np.floating):\n",
    "            raise ValueError(\"coeff elements must be of type float\")\n",
    "        self.coeff = coeff \n",
    "        self.power = self.coeff.size - 1 \n",
    "    def set_coeff( self , new_coeff ):\n",
    "        if not isinstance(new_coeff, np.ndarray):\n",
    "            raise ValueError(\"coeff must be a NumPy array\")\n",
    "        if not issubclass(new_coeff.dtype.type, np.floating):\n",
    "            raise ValueError(\"coeff elements must be of type float\")\n",
    "        self.coeff = new_coeff.astype(float) \n",
    "        self.power = self.coeff.size - 1 \n",
    "    def __add__( self , other ):\n",
    "        if not isinstance( other , poly ):\n",
    "            raise ValueError(\"Cannot add two different object types.\")\n",
    "        result = np.zeros( max( self.coeff.size , other.coeff.size ))\n",
    "        result[:self.coeff.size] += self.coeff \n",
    "        result[:other.coeff.size] += other.coeff \n",
    "        return poly(result)\n",
    "    def __call__( self , x ):\n",
    "        z = np.array([ x**i for i in range( 0 , self.power + 1 )])\n",
    "        return np.sum( self.coeff * z )\n",
    "    def __mul__( self , other ): \n",
    "        if not isinstance( other , poly ):\n",
    "            raise ValueError(\"Cannot add two different object types.\")\n",
    "        result = np.zeros( self.power + other.power + 1  )\n",
    "        for i in range( 0 , self.power + 1 ):\n",
    "            for j in range( 0 , other.power + 1 ):\n",
    "                result[ i + j ] += self.coeff[i]*other.coeff[j]\n",
    "        return poly( result )"
   ]
  },
  {
   "cell_type": "code",
   "execution_count": 6,
   "metadata": {},
   "outputs": [
    {
     "name": "stdout",
     "output_type": "stream",
     "text": [
      "p1 : [ 1. -1.]\n",
      "[1.0, 0.0, -1.0, -2.0, -3.0]\n",
      "p2 : [ 0.  1.  0.  0. -6. -1.]\n",
      "[0.0, -6.0, -126.0, -726.0, -2556.0]\n",
      "p3 : [ 1.  0.  0.  0. -6. -1.]\n",
      "[1.0, -6.0, -127.0, -728.0, -2559.0]\n",
      "p3 : [ 0.  1. -1.  0. -6.  5.  1.]\n",
      "[0.0, 0.0, 126.0, 1452.0, 7668.0]\n"
     ]
    }
   ],
   "source": [
    "p1 = poly( np.array([1.0,-1.0]))\n",
    "print( f'p1 : {p1.coeff}' )\n",
    "print( [ p1(i) for i in range( 0 ,5 )])\n",
    "p2 = poly( np.array([0,1,0,0,-6,-1] , dtype = float ) )\n",
    "print( f'p2 : {p2.coeff}')\n",
    "print( [ p2(i) for i in range( 0 ,5 )])\n",
    "p3 = p1 + p2 \n",
    "print( f'p3 : {p3.coeff}')\n",
    "print( [ p3(i) for i in range( 0 ,5 )])\n",
    "p4 = p1*p2 \n",
    "print( f'p3 : {p4.coeff}')\n",
    "print( [ p4(i) for i in range( 0 ,5 )])"
   ]
  },
  {
   "cell_type": "code",
   "execution_count": 7,
   "metadata": {},
   "outputs": [],
   "source": [
    "def mod( a ): \n",
    "    if a > 0 : \n",
    "        return '+ '\n",
    "    else: \n",
    "        return '- '"
   ]
  },
  {
   "cell_type": "markdown",
   "metadata": {},
   "source": [
    "## Question 4 "
   ]
  },
  {
   "cell_type": "code",
   "execution_count": 8,
   "metadata": {},
   "outputs": [],
   "source": [
    "class polynomial: \n",
    "    def __init__(self, coeff ):\n",
    "        self.coeff = coeff \n",
    "    def __add__( self , other ):\n",
    "        result = {}\n",
    "        for key, value in self.coeff.items(): \n",
    "            if key in result:\n",
    "                result[key] += value \n",
    "            else: \n",
    "                result[key] = value \n",
    "        for key, value in other.coeff.items(): \n",
    "            if key in result:\n",
    "                result[key] += value \n",
    "            else: \n",
    "                result[key] = value \n",
    "        return polynomial( result )\n",
    "    def __sub__( self , other ):\n",
    "        result = {}\n",
    "        for key, value in self.coeff.items(): \n",
    "            if key in result:\n",
    "                result[key] += value \n",
    "            else: \n",
    "                result[key] = value \n",
    "        for key, value in other.coeff.items(): \n",
    "            if key in result:\n",
    "                result[key] -= value \n",
    "            else: \n",
    "                result[key] = -value \n",
    "        return polynomial( result )\n",
    "    def __str__(self) : \n",
    "        result = ''\n",
    "        for key , value in self.coeff.items():\n",
    "            result = result + mod(value) + str(abs(value)) + \"x^\" + str(key) + \" \"\n",
    "        return result "
   ]
  },
  {
   "cell_type": "code",
   "execution_count": 9,
   "metadata": {},
   "outputs": [
    {
     "name": "stdout",
     "output_type": "stream",
     "text": [
      "+ 1x^4 - 3x^2 + 3x^0 \n",
      "+ 11x^9 + 5x^7 + 4x^3 - 2x^1 \n",
      "+ 1x^4 - 3x^2 + 3x^0 + 11x^9 + 5x^7 + 4x^3 - 2x^1 \n",
      "+ 1x^4 - 3x^2 + 3x^0 - 11x^9 - 5x^7 - 4x^3 + 2x^1 \n"
     ]
    }
   ],
   "source": [
    "p1_dict = { 4 : 1 , 2 : -3 , 0 : 3 }\n",
    "p2_dict = { 9 : 11 , 7 : 5 , 3 : 4 , 1 : -2 }\n",
    "p1 = polynomial( p1_dict)\n",
    "p2 = polynomial( p2_dict )\n",
    "print( p1 )\n",
    "print( p2 )\n",
    "print( p1 + p2 )\n",
    "print( p1 - p2 )"
   ]
  }
 ],
 "metadata": {
  "kernelspec": {
   "display_name": "Python 3",
   "language": "python",
   "name": "python3"
  },
  "language_info": {
   "codemirror_mode": {
    "name": "ipython",
    "version": 3
   },
   "file_extension": ".py",
   "mimetype": "text/x-python",
   "name": "python",
   "nbconvert_exporter": "python",
   "pygments_lexer": "ipython3",
   "version": "3.11.4"
  }
 },
 "nbformat": 4,
 "nbformat_minor": 2
}
